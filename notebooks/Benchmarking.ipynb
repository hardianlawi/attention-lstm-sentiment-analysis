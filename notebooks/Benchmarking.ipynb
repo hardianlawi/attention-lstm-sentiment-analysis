{
 "cells": [
  {
   "cell_type": "code",
   "execution_count": 1,
   "metadata": {
    "ExecuteTime": {
     "end_time": "2020-02-09T08:58:44.318744Z",
     "start_time": "2020-02-09T08:58:44.216261Z"
    }
   },
   "outputs": [
    {
     "name": "stdout",
     "output_type": "stream",
     "text": [
      "/home/hardianlawi/attention-lstm-sentiment-analysis\n"
     ]
    },
    {
     "data": {
      "application/javascript": [
       "\n",
       "            setTimeout(function() {\n",
       "                var nbb_cell_id = 1;\n",
       "                var nbb_unformatted_code = \"%cd ..\\n%load_ext nb_black\";\n",
       "                var nbb_formatted_code = \"%cd ..\\n%load_ext nb_black\";\n",
       "                var nbb_cells = Jupyter.notebook.get_cells();\n",
       "                for (var i = 0; i < nbb_cells.length; ++i) {\n",
       "                    if (nbb_cells[i].input_prompt_number == nbb_cell_id) {\n",
       "                        if (nbb_cells[i].get_text() == nbb_unformatted_code) {\n",
       "                             nbb_cells[i].set_text(nbb_formatted_code);\n",
       "                        }\n",
       "                        break;\n",
       "                    }\n",
       "                }\n",
       "            }, 500);\n",
       "            "
      ],
      "text/plain": [
       "<IPython.core.display.Javascript object>"
      ]
     },
     "metadata": {},
     "output_type": "display_data"
    }
   ],
   "source": [
    "%cd ..\n",
    "%load_ext nb_black"
   ]
  },
  {
   "cell_type": "code",
   "execution_count": 2,
   "metadata": {
    "ExecuteTime": {
     "end_time": "2020-02-09T08:58:45.114726Z",
     "start_time": "2020-02-09T08:58:44.320513Z"
    }
   },
   "outputs": [
    {
     "data": {
      "application/javascript": [
       "\n",
       "            setTimeout(function() {\n",
       "                var nbb_cell_id = 2;\n",
       "                var nbb_unformatted_code = \"import json\\nimport numpy as np\\nimport matplotlib.pyplot as plt\\nimport seaborn as sns\\n\\n%matplotlib inline\\n\\nplt.style.use('seaborn')\\nplt.rcParams['legend.frameon'] = True\\nsns.set_style(\\\"whitegrid\\\", {'grid.linestyle': '--'})\";\n",
       "                var nbb_formatted_code = \"import json\\nimport numpy as np\\nimport matplotlib.pyplot as plt\\nimport seaborn as sns\\n\\n%matplotlib inline\\n\\nplt.style.use(\\\"seaborn\\\")\\nplt.rcParams[\\\"legend.frameon\\\"] = True\\nsns.set_style(\\\"whitegrid\\\", {\\\"grid.linestyle\\\": \\\"--\\\"})\";\n",
       "                var nbb_cells = Jupyter.notebook.get_cells();\n",
       "                for (var i = 0; i < nbb_cells.length; ++i) {\n",
       "                    if (nbb_cells[i].input_prompt_number == nbb_cell_id) {\n",
       "                        if (nbb_cells[i].get_text() == nbb_unformatted_code) {\n",
       "                             nbb_cells[i].set_text(nbb_formatted_code);\n",
       "                        }\n",
       "                        break;\n",
       "                    }\n",
       "                }\n",
       "            }, 500);\n",
       "            "
      ],
      "text/plain": [
       "<IPython.core.display.Javascript object>"
      ]
     },
     "metadata": {},
     "output_type": "display_data"
    }
   ],
   "source": [
    "import json\n",
    "import numpy as np\n",
    "import matplotlib.pyplot as plt\n",
    "import seaborn as sns\n",
    "\n",
    "%matplotlib inline\n",
    "\n",
    "plt.style.use('seaborn')\n",
    "plt.rcParams['legend.frameon'] = True\n",
    "sns.set_style(\"whitegrid\", {'grid.linestyle': '--'})\n"
   ]
  },
  {
   "cell_type": "code",
   "execution_count": 3,
   "metadata": {
    "ExecuteTime": {
     "end_time": "2020-02-09T08:58:45.139003Z",
     "start_time": "2020-02-09T08:58:45.116815Z"
    }
   },
   "outputs": [
    {
     "data": {
      "application/javascript": [
       "\n",
       "            setTimeout(function() {\n",
       "                var nbb_cell_id = 3;\n",
       "                var nbb_unformatted_code = \"def _read_json(path):\\n    with open(path, \\\"r\\\") as f:\\n        return json.load(f)\\n\\n\\ndef _average_perfs(model_type):\\n    perfs = []\\n    for i in range(3):\\n        perf = _read_json(f\\\"{model_type}_perfs_{i}.json\\\")\\n        if perfs:\\n            assert perf[\\\"hparams\\\"] == perfs[-1][\\\"hparams\\\"]\\n            assert perf[\\\"num_params\\\"] == perfs[-1][\\\"num_params\\\"]\\n        perfs.append(perf)\\n    perfs = {\\n        \\\"hparams\\\": perfs[0][\\\"hparams\\\"],\\n        \\\"num_params\\\": perfs[0][\\\"num_params\\\"],\\n        \\\"accs\\\": np.mean(np.vstack([np.array(x[\\\"accs\\\"]) for x in perfs]), axis=0),\\n    }\\n    return perfs\\n\\n\\nattention_perfs = _average_perfs(\\\"attention\\\")\\nlstm_perfs = _average_perfs(\\\"lstm\\\")\";\n",
       "                var nbb_formatted_code = \"def _read_json(path):\\n    with open(path, \\\"r\\\") as f:\\n        return json.load(f)\\n\\n\\ndef _average_perfs(model_type):\\n    perfs = []\\n    for i in range(3):\\n        perf = _read_json(f\\\"{model_type}_perfs_{i}.json\\\")\\n        if perfs:\\n            assert perf[\\\"hparams\\\"] == perfs[-1][\\\"hparams\\\"]\\n            assert perf[\\\"num_params\\\"] == perfs[-1][\\\"num_params\\\"]\\n        perfs.append(perf)\\n    perfs = {\\n        \\\"hparams\\\": perfs[0][\\\"hparams\\\"],\\n        \\\"num_params\\\": perfs[0][\\\"num_params\\\"],\\n        \\\"accs\\\": np.mean(np.vstack([np.array(x[\\\"accs\\\"]) for x in perfs]), axis=0),\\n    }\\n    return perfs\\n\\n\\nattention_perfs = _average_perfs(\\\"attention\\\")\\nlstm_perfs = _average_perfs(\\\"lstm\\\")\";\n",
       "                var nbb_cells = Jupyter.notebook.get_cells();\n",
       "                for (var i = 0; i < nbb_cells.length; ++i) {\n",
       "                    if (nbb_cells[i].input_prompt_number == nbb_cell_id) {\n",
       "                        if (nbb_cells[i].get_text() == nbb_unformatted_code) {\n",
       "                             nbb_cells[i].set_text(nbb_formatted_code);\n",
       "                        }\n",
       "                        break;\n",
       "                    }\n",
       "                }\n",
       "            }, 500);\n",
       "            "
      ],
      "text/plain": [
       "<IPython.core.display.Javascript object>"
      ]
     },
     "metadata": {},
     "output_type": "display_data"
    }
   ],
   "source": [
    "def _read_json(path):\n",
    "    with open(path, \"r\") as f:\n",
    "        return json.load(f)\n",
    "\n",
    "\n",
    "def _average_perfs(model_type):\n",
    "    perfs = []\n",
    "    for i in range(3):\n",
    "        perf = _read_json(f\"{model_type}_perfs_{i}.json\")\n",
    "        if perfs:\n",
    "            assert perf[\"hparams\"] == perfs[-1][\"hparams\"]\n",
    "            assert perf[\"num_params\"] == perfs[-1][\"num_params\"]\n",
    "        perfs.append(perf)\n",
    "    perfs = {\n",
    "        \"hparams\": perfs[0][\"hparams\"],\n",
    "        \"num_params\": perfs[0][\"num_params\"],\n",
    "        \"accs\": np.mean(np.vstack([np.array(x[\"accs\"]) for x in perfs]), axis=0),\n",
    "    }\n",
    "    return perfs\n",
    "\n",
    "\n",
    "attention_perfs = _average_perfs(\"attention\")\n",
    "lstm_perfs = _average_perfs(\"lstm\")"
   ]
  },
  {
   "cell_type": "code",
   "execution_count": 4,
   "metadata": {
    "ExecuteTime": {
     "end_time": "2020-02-09T08:58:45.489109Z",
     "start_time": "2020-02-09T08:58:45.140664Z"
    }
   },
   "outputs": [
    {
     "data": {
      "image/png": "[encoded data removed]",
      "text/plain": [
       "<Figure size 576x396 with 1 Axes>"
      ]
     },
     "metadata": {},
     "output_type": "display_data"
    },
    {
     "data": {
      "application/javascript": [
       "\n",
       "            setTimeout(function() {\n",
       "                var nbb_cell_id = 4;\n",
       "                var nbb_unformatted_code = \"plt.scatter(attention_perfs[\\\"num_params\\\"], attention_perfs[\\\"accs\\\"])\\nplt.scatter(lstm_perfs[\\\"num_params\\\"], lstm_perfs[\\\"accs\\\"])\\nplt.xlabel(\\\"num_param\\\")\\nplt.ylabel(\\\"acc\\\")\\nplt.legend([\\\"attention\\\", \\\"lstm\\\"])\\nplt.show()\";\n",
       "                var nbb_formatted_code = \"plt.scatter(attention_perfs[\\\"num_params\\\"], attention_perfs[\\\"accs\\\"])\\nplt.scatter(lstm_perfs[\\\"num_params\\\"], lstm_perfs[\\\"accs\\\"])\\nplt.xlabel(\\\"num_param\\\")\\nplt.ylabel(\\\"acc\\\")\\nplt.legend([\\\"attention\\\", \\\"lstm\\\"])\\nplt.show()\";\n",
       "                var nbb_cells = Jupyter.notebook.get_cells();\n",
       "                for (var i = 0; i < nbb_cells.length; ++i) {\n",
       "                    if (nbb_cells[i].input_prompt_number == nbb_cell_id) {\n",
       "                        if (nbb_cells[i].get_text() == nbb_unformatted_code) {\n",
       "                             nbb_cells[i].set_text(nbb_formatted_code);\n",
       "                        }\n",
       "                        break;\n",
       "                    }\n",
       "                }\n",
       "            }, 500);\n",
       "            "
      ],
      "text/plain": [
       "<IPython.core.display.Javascript object>"
      ]
     },
     "metadata": {},
     "output_type": "display_data"
    }
   ],
   "source": [
    "plt.scatter(attention_perfs[\"num_params\"], attention_perfs[\"accs\"])\n",
    "plt.scatter(lstm_perfs[\"num_params\"], lstm_perfs[\"accs\"])\n",
    "plt.xlabel(\"num_param\")\n",
    "plt.ylabel(\"acc\")\n",
    "plt.legend([\"attention\", \"lstm\"])\n",
    "plt.show()"
   ]
  }
 ],
 "metadata": {
  "kernelspec": {
   "display_name": "attention-lstm-sentiment-analysis",
   "language": "python",
   "name": "attention-lstm-sentiment-analysis"
  },
  "language_info": {
   "codemirror_mode": {
    "name": "ipython",
    "version": 3
   },
   "file_extension": ".py",
   "mimetype": "text/x-python",
   "name": "python",
   "nbconvert_exporter": "python",
   "pygments_lexer": "ipython3",
   "version": "3.7.5"
  },
  "toc": {
   "base_numbering": 1,
   "nav_menu": {},
   "number_sections": true,
   "sideBar": true,
   "skip_h1_title": false,
   "title_cell": "Table of Contents",
   "title_sidebar": "Contents",
   "toc_cell": false,
   "toc_position": {},
   "toc_section_display": true,
   "toc_window_display": false
  }
 },
 "nbformat": 4,
 "nbformat_minor": 2
}
