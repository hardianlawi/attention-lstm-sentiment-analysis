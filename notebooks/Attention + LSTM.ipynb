{
 "cells": [
  {
   "cell_type": "code",
   "execution_count": 1,
   "metadata": {
    "ExecuteTime": {
     "end_time": "2020-02-06T15:43:06.143488Z",
     "start_time": "2020-02-06T15:43:06.029617Z"
    }
   },
   "outputs": [
    {
     "name": "stdout",
     "output_type": "stream",
     "text": [
      "/home/hardianlawi/attention-lstm-sentiment-analysis\n"
     ]
    },
    {
     "data": {
      "application/javascript": [
       "\n",
       "            setTimeout(function() {\n",
       "                var nbb_cell_id = 1;\n",
       "                var nbb_unformatted_code = \"%cd ..\\n%load_ext nb_black\";\n",
       "                var nbb_formatted_code = \"%cd ..\\n%load_ext nb_black\";\n",
       "                var nbb_cells = Jupyter.notebook.get_cells();\n",
       "                for (var i = 0; i < nbb_cells.length; ++i) {\n",
       "                    if (nbb_cells[i].input_prompt_number == nbb_cell_id) {\n",
       "                        if (nbb_cells[i].get_text() == nbb_unformatted_code) {\n",
       "                             nbb_cells[i].set_text(nbb_formatted_code);\n",
       "                        }\n",
       "                        break;\n",
       "                    }\n",
       "                }\n",
       "            }, 500);\n",
       "            "
      ],
      "text/plain": [
       "<IPython.core.display.Javascript object>"
      ]
     },
     "metadata": {},
     "output_type": "display_data"
    }
   ],
   "source": [
    "%cd ..\n",
    "%load_ext nb_black"
   ]
  },
  {
   "cell_type": "code",
   "execution_count": 2,
   "metadata": {
    "ExecuteTime": {
     "end_time": "2020-02-06T15:43:27.450838Z",
     "start_time": "2020-02-06T15:43:06.145412Z"
    }
   },
   "outputs": [
    {
     "name": "stdout",
     "output_type": "stream",
     "text": [
      "Maximum review length: 2494\n",
      "Minimum review length: 7\n"
     ]
    },
    {
     "data": {
      "application/javascript": [
       "\n",
       "            setTimeout(function() {\n",
       "                var nbb_cell_id = 2;\n",
       "                var nbb_unformatted_code = \"import numpy as np\\nimport tensorflow as tf\\nfrom src.preprocess import Preprocessor\\nfrom src.data import get_data, ID2WORD, OOV_ID\\nfrom src.models import get_model\\n\\n\\nvocabulary_size = 5000\\nembedding_size = 32\\nmax_words = 500\\n\\n(X_train, y_train), (X_test, y_test) = get_data(vocabulary_size)\\n\\nprint(\\\"Maximum review length: {}\\\".format(len(max((X_train + X_test), key=len))))\\nprint(\\\"Minimum review length: {}\\\".format(len(min((X_train + X_test), key=len))))\\n\\n\\npreprocessor = Preprocessor(maxlen=max_words, oov_token=ID2WORD[OOV_ID])\\npreprocessor.fit_on_texts(X_train + X_test)\\n\\nX_train = preprocessor.transform(X_train)\\nX_test = preprocessor.transform(X_test)\";\n",
       "                var nbb_formatted_code = \"import numpy as np\\nimport tensorflow as tf\\nfrom src.preprocess import Preprocessor\\nfrom src.data import get_data, ID2WORD, OOV_ID\\nfrom src.models import get_model\\n\\n\\nvocabulary_size = 5000\\nembedding_size = 32\\nmax_words = 500\\n\\n(X_train, y_train), (X_test, y_test) = get_data(vocabulary_size)\\n\\nprint(\\\"Maximum review length: {}\\\".format(len(max((X_train + X_test), key=len))))\\nprint(\\\"Minimum review length: {}\\\".format(len(min((X_train + X_test), key=len))))\\n\\n\\npreprocessor = Preprocessor(maxlen=max_words, oov_token=ID2WORD[OOV_ID])\\npreprocessor.fit_on_texts(X_train + X_test)\\n\\nX_train = preprocessor.transform(X_train)\\nX_test = preprocessor.transform(X_test)\";\n",
       "                var nbb_cells = Jupyter.notebook.get_cells();\n",
       "                for (var i = 0; i < nbb_cells.length; ++i) {\n",
       "                    if (nbb_cells[i].input_prompt_number == nbb_cell_id) {\n",
       "                        if (nbb_cells[i].get_text() == nbb_unformatted_code) {\n",
       "                             nbb_cells[i].set_text(nbb_formatted_code);\n",
       "                        }\n",
       "                        break;\n",
       "                    }\n",
       "                }\n",
       "            }, 500);\n",
       "            "
      ],
      "text/plain": [
       "<IPython.core.display.Javascript object>"
      ]
     },
     "metadata": {},
     "output_type": "display_data"
    }
   ],
   "source": [
    "import numpy as np\n",
    "import tensorflow as tf\n",
    "from src.preprocess import Preprocessor\n",
    "from src.data import get_data, ID2WORD, OOV_ID\n",
    "from src.models import get_model\n",
    "\n",
    "\n",
    "vocabulary_size = 5000\n",
    "embedding_size = 32\n",
    "max_words = 500\n",
    "\n",
    "(X_train, y_train), (X_test, y_test) = get_data(vocabulary_size)\n",
    "\n",
    "print(\"Maximum review length: {}\".format(len(max((X_train + X_test), key=len))))\n",
    "print(\"Minimum review length: {}\".format(len(min((X_train + X_test), key=len))))\n",
    "\n",
    "\n",
    "preprocessor = Preprocessor(maxlen=max_words, oov_token=ID2WORD[OOV_ID])\n",
    "preprocessor.fit_on_texts(X_train + X_test)\n",
    "\n",
    "X_train = preprocessor.transform(X_train)\n",
    "X_test = preprocessor.transform(X_test)\n"
   ]
  },
  {
   "cell_type": "code",
   "execution_count": 3,
   "metadata": {
    "ExecuteTime": {
     "end_time": "2020-02-06T15:43:28.463256Z",
     "start_time": "2020-02-06T15:43:27.453004Z"
    }
   },
   "outputs": [
    {
     "name": "stdout",
     "output_type": "stream",
     "text": [
      "Model: \"model\"\n",
      "________________________________________________________________________________________________________________________________________________________________________________________________________\n",
      "Layer (type)                                                                              Output Shape                                                                    Param #                       \n",
      "========================================================================================================================================================================================================\n",
      "input_1 (InputLayer)                                                                      [(None, 500)]                                                                   0                             \n",
      "________________________________________________________________________________________________________________________________________________________________________________________________________\n",
      "embedding (Embedding)                                                                     (None, 500, 32)                                                                 160000                        \n",
      "________________________________________________________________________________________________________________________________________________________________________________________________________\n",
      "lstm (LSTM)                                                                               [(None, 500, 100), (None, 100), (None, 100)]                                    53200                         \n",
      "________________________________________________________________________________________________________________________________________________________________________________________________________\n",
      "bahdanau_attention (BahdanauAttention)                                                    ((None, 100), (None, 500, 1))                                                   3249                          \n",
      "________________________________________________________________________________________________________________________________________________________________________________________________________\n",
      "dense_3 (Dense)                                                                           (None, 1)                                                                       101                           \n",
      "========================================================================================================================================================================================================\n",
      "Total params: 216,550\n",
      "Trainable params: 216,550\n",
      "Non-trainable params: 0\n",
      "________________________________________________________________________________________________________________________________________________________________________________________________________\n"
     ]
    },
    {
     "data": {
      "application/javascript": [
       "\n",
       "            setTimeout(function() {\n",
       "                var nbb_cell_id = 3;\n",
       "                var nbb_unformatted_code = \"model, model_attention = get_model(\\n    \\\"attention\\\", max_words, vocabulary_size, embedding_size\\n)\\nmodel.summary(line_length=200)\\nmodel.compile(loss=\\\"binary_crossentropy\\\", optimizer=\\\"adam\\\", metrics=[\\\"accuracy\\\"])\";\n",
       "                var nbb_formatted_code = \"model, model_attention = get_model(\\n    \\\"attention\\\", max_words, vocabulary_size, embedding_size\\n)\\nmodel.summary(line_length=200)\\nmodel.compile(loss=\\\"binary_crossentropy\\\", optimizer=\\\"adam\\\", metrics=[\\\"accuracy\\\"])\";\n",
       "                var nbb_cells = Jupyter.notebook.get_cells();\n",
       "                for (var i = 0; i < nbb_cells.length; ++i) {\n",
       "                    if (nbb_cells[i].input_prompt_number == nbb_cell_id) {\n",
       "                        if (nbb_cells[i].get_text() == nbb_unformatted_code) {\n",
       "                             nbb_cells[i].set_text(nbb_formatted_code);\n",
       "                        }\n",
       "                        break;\n",
       "                    }\n",
       "                }\n",
       "            }, 500);\n",
       "            "
      ],
      "text/plain": [
       "<IPython.core.display.Javascript object>"
      ]
     },
     "metadata": {},
     "output_type": "display_data"
    }
   ],
   "source": [
    "model, model_attention = get_model(\n",
    "    \"attention\", max_words, vocabulary_size, embedding_size\n",
    ")\n",
    "model.summary(line_length=200)\n",
    "model.compile(loss=\"binary_crossentropy\", optimizer=\"adam\", metrics=[\"accuracy\"])"
   ]
  },
  {
   "cell_type": "code",
   "execution_count": 4,
   "metadata": {
    "ExecuteTime": {
     "end_time": "2020-02-06T15:55:35.742000Z",
     "start_time": "2020-02-06T15:43:28.465215Z"
    }
   },
   "outputs": [
    {
     "name": "stdout",
     "output_type": "stream",
     "text": [
      "Train on 24936 samples, validate on 64 samples\n",
      "Epoch 1/3\n",
      "24936/24936 [==============================] - 235s 9ms/sample - loss: 0.4249 - accuracy: 0.7949 - val_loss: 0.2066 - val_accuracy: 0.9219\n",
      "Epoch 2/3\n",
      "24936/24936 [==============================] - 259s 10ms/sample - loss: 0.2401 - accuracy: 0.9058 - val_loss: 0.2073 - val_accuracy: 0.8906\n",
      "Epoch 3/3\n",
      "24936/24936 [==============================] - 234s 9ms/sample - loss: 0.2059 - accuracy: 0.9220 - val_loss: 0.1949 - val_accuracy: 0.9219\n"
     ]
    },
    {
     "data": {
      "text/plain": [
       "<tensorflow.python.keras.callbacks.History at 0x7f41f35e9f50>"
      ]
     },
     "execution_count": 4,
     "metadata": {},
     "output_type": "execute_result"
    },
    {
     "data": {
      "application/javascript": [
       "\n",
       "            setTimeout(function() {\n",
       "                var nbb_cell_id = 4;\n",
       "                var nbb_unformatted_code = \"batch_size = 64\\nnum_epochs = 3\\nX_valid, y_valid = X_train[:batch_size], y_train[:batch_size]\\nX_train2, y_train2 = X_train[batch_size:], y_train[batch_size:]\\n\\nmodel.fit(\\n    X_train2,\\n    y_train2,\\n    validation_data=(X_valid, y_valid),\\n    batch_size=batch_size,\\n    epochs=num_epochs,\\n)\";\n",
       "                var nbb_formatted_code = \"batch_size = 64\\nnum_epochs = 3\\nX_valid, y_valid = X_train[:batch_size], y_train[:batch_size]\\nX_train2, y_train2 = X_train[batch_size:], y_train[batch_size:]\\n\\nmodel.fit(\\n    X_train2,\\n    y_train2,\\n    validation_data=(X_valid, y_valid),\\n    batch_size=batch_size,\\n    epochs=num_epochs,\\n)\";\n",
       "                var nbb_cells = Jupyter.notebook.get_cells();\n",
       "                for (var i = 0; i < nbb_cells.length; ++i) {\n",
       "                    if (nbb_cells[i].input_prompt_number == nbb_cell_id) {\n",
       "                        if (nbb_cells[i].get_text() == nbb_unformatted_code) {\n",
       "                             nbb_cells[i].set_text(nbb_formatted_code);\n",
       "                        }\n",
       "                        break;\n",
       "                    }\n",
       "                }\n",
       "            }, 500);\n",
       "            "
      ],
      "text/plain": [
       "<IPython.core.display.Javascript object>"
      ]
     },
     "metadata": {},
     "output_type": "display_data"
    }
   ],
   "source": [
    "batch_size = 64\n",
    "num_epochs = 3\n",
    "X_valid, y_valid = X_train[:batch_size], y_train[:batch_size]\n",
    "X_train2, y_train2 = X_train[batch_size:], y_train[batch_size:]\n",
    "\n",
    "model.fit(\n",
    "    X_train2,\n",
    "    y_train2,\n",
    "    validation_data=(X_valid, y_valid),\n",
    "    batch_size=batch_size,\n",
    "    epochs=num_epochs,\n",
    ")"
   ]
  },
  {
   "cell_type": "code",
   "execution_count": 5,
   "metadata": {
    "ExecuteTime": {
     "end_time": "2020-02-06T15:55:35.767852Z",
     "start_time": "2020-02-06T15:55:35.745059Z"
    }
   },
   "outputs": [
    {
     "data": {
      "application/javascript": [
       "\n",
       "            setTimeout(function() {\n",
       "                var nbb_cell_id = 5;\n",
       "                var nbb_unformatted_code = \"# function for plotting the attention weights\\ndef plot_attention(attention, sentence, predicted_sentence):\\n    fig = plt.figure(figsize=(10, 10))\\n    ax = fig.add_subplot(1, 1, 1)\\n    ax.matshow(attention, cmap=\\\"viridis\\\")\\n    fontdict = {\\\"fontsize\\\": 14}\\n    ax.set_xticklabels([\\\"\\\"] + sentence, fontdict=fontdict, rotation=90)\\n    ax.set_yticklabels([\\\"\\\"] + predicted_sentence, fontdict=fontdict)\\n    ax.xaxis.set_major_locator(ticker.MultipleLocator(1))\\n    ax.yaxis.set_major_locator(ticker.MultipleLocator(1))\\n    plt.show()\";\n",
       "                var nbb_formatted_code = \"# function for plotting the attention weights\\ndef plot_attention(attention, sentence, predicted_sentence):\\n    fig = plt.figure(figsize=(10, 10))\\n    ax = fig.add_subplot(1, 1, 1)\\n    ax.matshow(attention, cmap=\\\"viridis\\\")\\n    fontdict = {\\\"fontsize\\\": 14}\\n    ax.set_xticklabels([\\\"\\\"] + sentence, fontdict=fontdict, rotation=90)\\n    ax.set_yticklabels([\\\"\\\"] + predicted_sentence, fontdict=fontdict)\\n    ax.xaxis.set_major_locator(ticker.MultipleLocator(1))\\n    ax.yaxis.set_major_locator(ticker.MultipleLocator(1))\\n    plt.show()\";\n",
       "                var nbb_cells = Jupyter.notebook.get_cells();\n",
       "                for (var i = 0; i < nbb_cells.length; ++i) {\n",
       "                    if (nbb_cells[i].input_prompt_number == nbb_cell_id) {\n",
       "                        if (nbb_cells[i].get_text() == nbb_unformatted_code) {\n",
       "                             nbb_cells[i].set_text(nbb_formatted_code);\n",
       "                        }\n",
       "                        break;\n",
       "                    }\n",
       "                }\n",
       "            }, 500);\n",
       "            "
      ],
      "text/plain": [
       "<IPython.core.display.Javascript object>"
      ]
     },
     "metadata": {},
     "output_type": "display_data"
    }
   ],
   "source": [
    "# function for plotting the attention weights\n",
    "def plot_attention(attention, sentence, predicted_sentence):\n",
    "    fig = plt.figure(figsize=(10, 10))\n",
    "    ax = fig.add_subplot(1, 1, 1)\n",
    "    ax.matshow(attention, cmap=\"viridis\")\n",
    "    fontdict = {\"fontsize\": 14}\n",
    "    ax.set_xticklabels([\"\"] + sentence, fontdict=fontdict, rotation=90)\n",
    "    ax.set_yticklabels([\"\"] + predicted_sentence, fontdict=fontdict)\n",
    "    ax.xaxis.set_major_locator(ticker.MultipleLocator(1))\n",
    "    ax.yaxis.set_major_locator(ticker.MultipleLocator(1))\n",
    "    plt.show()"
   ]
  },
  {
   "cell_type": "code",
   "execution_count": 6,
   "metadata": {
    "ExecuteTime": {
     "end_time": "2020-02-06T15:57:15.629788Z",
     "start_time": "2020-02-06T15:55:35.770781Z"
    }
   },
   "outputs": [
    {
     "name": "stdout",
     "output_type": "stream",
     "text": [
      "Test accuracy: 0.88328\n"
     ]
    },
    {
     "data": {
      "application/javascript": [
       "\n",
       "            setTimeout(function() {\n",
       "                var nbb_cell_id = 6;\n",
       "                var nbb_unformatted_code = \"scores = model.evaluate(X_test, y_test, verbose=0)\\nprint(\\\"Test accuracy:\\\", scores[1])\";\n",
       "                var nbb_formatted_code = \"scores = model.evaluate(X_test, y_test, verbose=0)\\nprint(\\\"Test accuracy:\\\", scores[1])\";\n",
       "                var nbb_cells = Jupyter.notebook.get_cells();\n",
       "                for (var i = 0; i < nbb_cells.length; ++i) {\n",
       "                    if (nbb_cells[i].input_prompt_number == nbb_cell_id) {\n",
       "                        if (nbb_cells[i].get_text() == nbb_unformatted_code) {\n",
       "                             nbb_cells[i].set_text(nbb_formatted_code);\n",
       "                        }\n",
       "                        break;\n",
       "                    }\n",
       "                }\n",
       "            }, 500);\n",
       "            "
      ],
      "text/plain": [
       "<IPython.core.display.Javascript object>"
      ]
     },
     "metadata": {},
     "output_type": "display_data"
    }
   ],
   "source": [
    "scores = model.evaluate(X_test, y_test, verbose=0)\n",
    "print(\"Test accuracy:\", scores[1])"
   ]
  },
  {
   "cell_type": "code",
   "execution_count": 15,
   "metadata": {
    "ExecuteTime": {
     "end_time": "2020-02-07T11:10:06.533216Z",
     "start_time": "2020-02-07T11:09:49.891576Z"
    }
   },
   "outputs": [
    {
     "name": "stdout",
     "output_type": "stream",
     "text": [
      "Maximum review length: 2494\n",
      "Minimum review length: 7\n"
     ]
    },
    {
     "data": {
      "application/javascript": [
       "\n",
       "            setTimeout(function() {\n",
       "                var nbb_cell_id = 15;\n",
       "                var nbb_unformatted_code = \"import json\\nimport pickle\\nfrom typing import List\\n\\nfrom tensorflow.keras.preprocessing import sequence\\nfrom tensorflow.keras.preprocessing.text import Tokenizer, tokenizer_from_json\\n\\n\\nclass Preprocessor(object):\\n    def __init__(self, maxlen, oov_token):\\n        self._tokenizer = Tokenizer(oov_token=oov_token)\\n        self._maxlen = maxlen\\n\\n    def fit_on_texts(self, texts):\\n        self._tokenizer.fit_on_texts(texts)\\n\\n    def transform(self, sentences: List[str]):\\n        sequences = self._tokenizer.texts_to_sequences(sentences)\\n        padded_sequences = sequence.pad_sequences(sequences, maxlen=self._maxlen)\\n        return padded_sequences\\n\\n    def save(self, path):\\n        with open(path, \\\"wb\\\") as handle:\\n            pickle.dump(self, handle, protocol=pickle.HIGHEST_PROTOCOL)\\n            \\n    @classmethod\\n    def load(cls, path):\\n        with open(path, 'rb') as handle:\\n            return pickle.load(handle)\\n\\n\\n(X_train, y_train), (X_test, y_test) = get_data(vocabulary_size)\\n\\nprint(\\\"Maximum review length: {}\\\".format(len(max((X_train + X_test), key=len))))\\nprint(\\\"Minimum review length: {}\\\".format(len(min((X_train + X_test), key=len))))\\n\\n\\npreprocessor = Preprocessor(maxlen=max_words, oov_token=ID2WORD[OOV_ID])\\npreprocessor.fit_on_texts(X_train + X_test)\\n\\nX_train = preprocessor.transform(X_train)\\nX_test = preprocessor.transform(X_test)\";\n",
       "                var nbb_formatted_code = \"import json\\nimport pickle\\nfrom typing import List\\n\\nfrom tensorflow.keras.preprocessing import sequence\\nfrom tensorflow.keras.preprocessing.text import Tokenizer, tokenizer_from_json\\n\\n\\nclass Preprocessor(object):\\n    def __init__(self, maxlen, oov_token):\\n        self._tokenizer = Tokenizer(oov_token=oov_token)\\n        self._maxlen = maxlen\\n\\n    def fit_on_texts(self, texts):\\n        self._tokenizer.fit_on_texts(texts)\\n\\n    def transform(self, sentences: List[str]):\\n        sequences = self._tokenizer.texts_to_sequences(sentences)\\n        padded_sequences = sequence.pad_sequences(sequences, maxlen=self._maxlen)\\n        return padded_sequences\\n\\n    def save(self, path):\\n        with open(path, \\\"wb\\\") as handle:\\n            pickle.dump(self, handle, protocol=pickle.HIGHEST_PROTOCOL)\\n\\n    @classmethod\\n    def load(cls, path):\\n        with open(path, \\\"rb\\\") as handle:\\n            return pickle.load(handle)\\n\\n\\n(X_train, y_train), (X_test, y_test) = get_data(vocabulary_size)\\n\\nprint(\\\"Maximum review length: {}\\\".format(len(max((X_train + X_test), key=len))))\\nprint(\\\"Minimum review length: {}\\\".format(len(min((X_train + X_test), key=len))))\\n\\n\\npreprocessor = Preprocessor(maxlen=max_words, oov_token=ID2WORD[OOV_ID])\\npreprocessor.fit_on_texts(X_train + X_test)\\n\\nX_train = preprocessor.transform(X_train)\\nX_test = preprocessor.transform(X_test)\";\n",
       "                var nbb_cells = Jupyter.notebook.get_cells();\n",
       "                for (var i = 0; i < nbb_cells.length; ++i) {\n",
       "                    if (nbb_cells[i].input_prompt_number == nbb_cell_id) {\n",
       "                        if (nbb_cells[i].get_text() == nbb_unformatted_code) {\n",
       "                             nbb_cells[i].set_text(nbb_formatted_code);\n",
       "                        }\n",
       "                        break;\n",
       "                    }\n",
       "                }\n",
       "            }, 500);\n",
       "            "
      ],
      "text/plain": [
       "<IPython.core.display.Javascript object>"
      ]
     },
     "metadata": {},
     "output_type": "display_data"
    }
   ],
   "source": [
    "import json\n",
    "import pickle\n",
    "from typing import List\n",
    "\n",
    "from tensorflow.keras.preprocessing import sequence\n",
    "from tensorflow.keras.preprocessing.text import Tokenizer, tokenizer_from_json\n",
    "\n",
    "\n",
    "class Preprocessor(object):\n",
    "    def __init__(self, maxlen, oov_token):\n",
    "        self._tokenizer = Tokenizer(oov_token=oov_token)\n",
    "        self._maxlen = maxlen\n",
    "\n",
    "    def fit_on_texts(self, texts):\n",
    "        self._tokenizer.fit_on_texts(texts)\n",
    "\n",
    "    def transform(self, sentences: List[str]):\n",
    "        sequences = self._tokenizer.texts_to_sequences(sentences)\n",
    "        padded_sequences = sequence.pad_sequences(sequences, maxlen=self._maxlen)\n",
    "        return padded_sequences\n",
    "\n",
    "    def save(self, path):\n",
    "        with open(path, \"wb\") as handle:\n",
    "            pickle.dump(self, handle, protocol=pickle.HIGHEST_PROTOCOL)\n",
    "            \n",
    "    @classmethod\n",
    "    def load(cls, path):\n",
    "        with open(path, 'rb') as handle:\n",
    "            return pickle.load(handle)\n",
    "\n",
    "\n",
    "(X_train, y_train), (X_test, y_test) = get_data(vocabulary_size)\n",
    "\n",
    "print(\"Maximum review length: {}\".format(len(max((X_train + X_test), key=len))))\n",
    "print(\"Minimum review length: {}\".format(len(min((X_train + X_test), key=len))))\n",
    "\n",
    "\n",
    "preprocessor = Preprocessor(maxlen=max_words, oov_token=ID2WORD[OOV_ID])\n",
    "preprocessor.fit_on_texts(X_train + X_test)\n",
    "\n",
    "X_train = preprocessor.transform(X_train)\n",
    "X_test = preprocessor.transform(X_test)\n"
   ]
  },
  {
   "cell_type": "code",
   "execution_count": 16,
   "metadata": {
    "ExecuteTime": {
     "end_time": "2020-02-07T11:10:06.542810Z",
     "start_time": "2020-02-07T11:10:06.534727Z"
    }
   },
   "outputs": [
    {
     "data": {
      "application/javascript": [
       "\n",
       "            setTimeout(function() {\n",
       "                var nbb_cell_id = 16;\n",
       "                var nbb_unformatted_code = \"preprocessor.save(\\\"preprocessor.pkl\\\")\";\n",
       "                var nbb_formatted_code = \"preprocessor.save(\\\"preprocessor.pkl\\\")\";\n",
       "                var nbb_cells = Jupyter.notebook.get_cells();\n",
       "                for (var i = 0; i < nbb_cells.length; ++i) {\n",
       "                    if (nbb_cells[i].input_prompt_number == nbb_cell_id) {\n",
       "                        if (nbb_cells[i].get_text() == nbb_unformatted_code) {\n",
       "                             nbb_cells[i].set_text(nbb_formatted_code);\n",
       "                        }\n",
       "                        break;\n",
       "                    }\n",
       "                }\n",
       "            }, 500);\n",
       "            "
      ],
      "text/plain": [
       "<IPython.core.display.Javascript object>"
      ]
     },
     "metadata": {},
     "output_type": "display_data"
    }
   ],
   "source": [
    "preprocessor.save(\"preprocessor.pkl\")"
   ]
  },
  {
   "cell_type": "code",
   "execution_count": 17,
   "metadata": {
    "ExecuteTime": {
     "end_time": "2020-02-07T11:10:06.585262Z",
     "start_time": "2020-02-07T11:10:06.544286Z"
    }
   },
   "outputs": [
    {
     "data": {
      "application/javascript": [
       "\n",
       "            setTimeout(function() {\n",
       "                var nbb_cell_id = 17;\n",
       "                var nbb_unformatted_code = \"temp = Preprocessor.load(\\\"preprocessor.pkl\\\")\";\n",
       "                var nbb_formatted_code = \"temp = Preprocessor.load(\\\"preprocessor.pkl\\\")\";\n",
       "                var nbb_cells = Jupyter.notebook.get_cells();\n",
       "                for (var i = 0; i < nbb_cells.length; ++i) {\n",
       "                    if (nbb_cells[i].input_prompt_number == nbb_cell_id) {\n",
       "                        if (nbb_cells[i].get_text() == nbb_unformatted_code) {\n",
       "                             nbb_cells[i].set_text(nbb_formatted_code);\n",
       "                        }\n",
       "                        break;\n",
       "                    }\n",
       "                }\n",
       "            }, 500);\n",
       "            "
      ],
      "text/plain": [
       "<IPython.core.display.Javascript object>"
      ]
     },
     "metadata": {},
     "output_type": "display_data"
    }
   ],
   "source": [
    "temp = Preprocessor.load(\"preprocessor.pkl\")"
   ]
  },
  {
   "cell_type": "code",
   "execution_count": 18,
   "metadata": {
    "ExecuteTime": {
     "end_time": "2020-02-07T11:30:43.030225Z",
     "start_time": "2020-02-07T11:30:43.022081Z"
    }
   },
   "outputs": [
    {
     "data": {
      "text/plain": [
       "<__main__.Preprocessor at 0x7f41f3721c50>"
      ]
     },
     "execution_count": 18,
     "metadata": {},
     "output_type": "execute_result"
    },
    {
     "data": {
      "application/javascript": [
       "\n",
       "            setTimeout(function() {\n",
       "                var nbb_cell_id = 18;\n",
       "                var nbb_unformatted_code = \"temp\";\n",
       "                var nbb_formatted_code = \"temp\";\n",
       "                var nbb_cells = Jupyter.notebook.get_cells();\n",
       "                for (var i = 0; i < nbb_cells.length; ++i) {\n",
       "                    if (nbb_cells[i].input_prompt_number == nbb_cell_id) {\n",
       "                        if (nbb_cells[i].get_text() == nbb_unformatted_code) {\n",
       "                             nbb_cells[i].set_text(nbb_formatted_code);\n",
       "                        }\n",
       "                        break;\n",
       "                    }\n",
       "                }\n",
       "            }, 500);\n",
       "            "
      ],
      "text/plain": [
       "<IPython.core.display.Javascript object>"
      ]
     },
     "metadata": {},
     "output_type": "display_data"
    }
   ],
   "source": [
    "temp"
   ]
  }
 ],
 "metadata": {
  "kernelspec": {
   "display_name": "conda_tensorflow",
   "language": "python",
   "name": "conda_tensorflow"
  },
  "language_info": {
   "codemirror_mode": {
    "name": "ipython",
    "version": 3
   },
   "file_extension": ".py",
   "mimetype": "text/x-python",
   "name": "python",
   "nbconvert_exporter": "python",
   "pygments_lexer": "ipython3",
   "version": "3.7.5"
  },
  "toc": {
   "base_numbering": 1,
   "nav_menu": {},
   "number_sections": true,
   "sideBar": true,
   "skip_h1_title": false,
   "title_cell": "Table of Contents",
   "title_sidebar": "Contents",
   "toc_cell": false,
   "toc_position": {},
   "toc_section_display": true,
   "toc_window_display": false
  }
 },
 "nbformat": 4,
 "nbformat_minor": 2
}
