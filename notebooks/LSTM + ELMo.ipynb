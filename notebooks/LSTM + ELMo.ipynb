{
 "cells": [
  {
   "cell_type": "code",
   "execution_count": 1,
   "metadata": {
    "ExecuteTime": {
     "end_time": "2020-02-07T02:35:35.969905Z",
     "start_time": "2020-02-07T02:35:35.882348Z"
    }
   },
   "outputs": [
    {
     "name": "stdout",
     "output_type": "stream",
     "text": [
      "/home/hardianlawi/attention-lstm-sentiment-analysis\n"
     ]
    },
    {
     "data": {
      "application/javascript": [
       "\n",
       "            setTimeout(function() {\n",
       "                var nbb_cell_id = 1;\n",
       "                var nbb_unformatted_code = \"%cd ..\\n%load_ext nb_black\";\n",
       "                var nbb_formatted_code = \"%cd ..\\n%load_ext nb_black\";\n",
       "                var nbb_cells = Jupyter.notebook.get_cells();\n",
       "                for (var i = 0; i < nbb_cells.length; ++i) {\n",
       "                    if (nbb_cells[i].input_prompt_number == nbb_cell_id) {\n",
       "                        if (nbb_cells[i].get_text() == nbb_unformatted_code) {\n",
       "                             nbb_cells[i].set_text(nbb_formatted_code);\n",
       "                        }\n",
       "                        break;\n",
       "                    }\n",
       "                }\n",
       "            }, 500);\n",
       "            "
      ],
      "text/plain": [
       "<IPython.core.display.Javascript object>"
      ]
     },
     "metadata": {},
     "output_type": "display_data"
    }
   ],
   "source": [
    "%cd ..\n",
    "%load_ext nb_black"
   ]
  },
  {
   "cell_type": "code",
   "execution_count": 2,
   "metadata": {
    "ExecuteTime": {
     "end_time": "2020-02-07T02:35:37.219790Z",
     "start_time": "2020-02-07T02:35:35.971253Z"
    }
   },
   "outputs": [
    {
     "data": {
      "application/javascript": [
       "\n",
       "            setTimeout(function() {\n",
       "                var nbb_cell_id = 2;\n",
       "                var nbb_unformatted_code = \"from src.preprocess import Preprocessor\\nfrom src.data import get_data, ID2WORD, OOV_ID, START_ID, WORD2ID\";\n",
       "                var nbb_formatted_code = \"from src.preprocess import Preprocessor\\nfrom src.data import get_data, ID2WORD, OOV_ID, START_ID, WORD2ID\";\n",
       "                var nbb_cells = Jupyter.notebook.get_cells();\n",
       "                for (var i = 0; i < nbb_cells.length; ++i) {\n",
       "                    if (nbb_cells[i].input_prompt_number == nbb_cell_id) {\n",
       "                        if (nbb_cells[i].get_text() == nbb_unformatted_code) {\n",
       "                             nbb_cells[i].set_text(nbb_formatted_code);\n",
       "                        }\n",
       "                        break;\n",
       "                    }\n",
       "                }\n",
       "            }, 500);\n",
       "            "
      ],
      "text/plain": [
       "<IPython.core.display.Javascript object>"
      ]
     },
     "metadata": {},
     "output_type": "display_data"
    }
   ],
   "source": [
    "from src.preprocess import Preprocessor\n",
    "from src.data import get_data, ID2WORD, OOV_ID, START_ID, WORD2ID\n"
   ]
  },
  {
   "cell_type": "code",
   "execution_count": 3,
   "metadata": {
    "ExecuteTime": {
     "end_time": "2020-02-07T02:35:43.163147Z",
     "start_time": "2020-02-07T02:35:37.221515Z"
    }
   },
   "outputs": [
    {
     "name": "stdout",
     "output_type": "stream",
     "text": [
      "Maximum review length: 2494\n",
      "Minimum review length: 7\n"
     ]
    },
    {
     "data": {
      "application/javascript": [
       "\n",
       "            setTimeout(function() {\n",
       "                var nbb_cell_id = 3;\n",
       "                var nbb_unformatted_code = \"vocabulary_size = 5000\\nembedding_size = 32\\nmax_words = 500\\n\\n(X_train, y_train), (X_test, y_test) = get_data(vocabulary_size)\\n\\nprint(\\\"Maximum review length: {}\\\".format(len(max((X_train + X_test), key=len))))\\nprint(\\\"Minimum review length: {}\\\".format(len(min((X_train + X_test), key=len))))\";\n",
       "                var nbb_formatted_code = \"vocabulary_size = 5000\\nembedding_size = 32\\nmax_words = 500\\n\\n(X_train, y_train), (X_test, y_test) = get_data(vocabulary_size)\\n\\nprint(\\\"Maximum review length: {}\\\".format(len(max((X_train + X_test), key=len))))\\nprint(\\\"Minimum review length: {}\\\".format(len(min((X_train + X_test), key=len))))\";\n",
       "                var nbb_cells = Jupyter.notebook.get_cells();\n",
       "                for (var i = 0; i < nbb_cells.length; ++i) {\n",
       "                    if (nbb_cells[i].input_prompt_number == nbb_cell_id) {\n",
       "                        if (nbb_cells[i].get_text() == nbb_unformatted_code) {\n",
       "                             nbb_cells[i].set_text(nbb_formatted_code);\n",
       "                        }\n",
       "                        break;\n",
       "                    }\n",
       "                }\n",
       "            }, 500);\n",
       "            "
      ],
      "text/plain": [
       "<IPython.core.display.Javascript object>"
      ]
     },
     "metadata": {},
     "output_type": "display_data"
    }
   ],
   "source": [
    "vocabulary_size = 5000\n",
    "embedding_size = 32\n",
    "max_words = 500\n",
    "\n",
    "(X_train, y_train), (X_test, y_test) = get_data(vocabulary_size)\n",
    "\n",
    "print(\"Maximum review length: {}\".format(len(max((X_train + X_test), key=len))))\n",
    "print(\"Minimum review length: {}\".format(len(min((X_train + X_test), key=len))))\n"
   ]
  },
  {
   "cell_type": "code",
   "execution_count": 4,
   "metadata": {
    "ExecuteTime": {
     "end_time": "2020-02-07T02:35:51.582345Z",
     "start_time": "2020-02-07T02:35:43.165315Z"
    }
   },
   "outputs": [
    {
     "name": "stdout",
     "output_type": "stream",
     "text": [
      "INFO:tensorflow:Saver not created because there are no variables in the graph to restore\n"
     ]
    },
    {
     "name": "stderr",
     "output_type": "stream",
     "text": [
      "INFO:tensorflow:Saver not created because there are no variables in the graph to restore\n"
     ]
    },
    {
     "data": {
      "application/javascript": [
       "\n",
       "            setTimeout(function() {\n",
       "                var nbb_cell_id = 4;\n",
       "                var nbb_unformatted_code = \"import numpy as np\\nimport tensorflow_hub as hub\\nimport tensorflow as tf\\nfrom tensorflow.keras.layers import Input, LSTM, Dense, Embedding\\nfrom tensorflow.keras import Model\\n\\n\\ndef _generate_elmo_embeddings():\\n    temp = X_train + X_test\\n    temp = list(\\n        set(\\n            [\\n                x\\n                for l in temp\\n                for x in l\\n                if x not in (ID2WORD[START_ID], ID2WORD[OOV_ID], \\\"\\\")\\n            ]\\n        )\\n    )\\n    elmo = hub.Module(\\\"https://tfhub.dev/google/elmo/3\\\", trainable=False)\\n    embeddings = elmo(temp, signature=\\\"default\\\", as_dict=True)[\\\"elmo\\\"]\\n\\n    with tf.Session() as sess:\\n        sess.run(tf.global_variables_initializer())\\n        embeddings = sess.run(embeddings)\\n\\n    emb_matrix = np.zeros((vocabulary_size, 1024))\\n    for word, emb in zip(temp, embeddings.squeeze(axis=1)):\\n        i = WORD2ID[word]\\n        emb_matrix[i] = emb\\n\\n    return emb_matrix\\n\\n\\nemb_matrix = _generate_elmo_embeddings()\";\n",
       "                var nbb_formatted_code = \"import numpy as np\\nimport tensorflow_hub as hub\\nimport tensorflow as tf\\nfrom tensorflow.keras.layers import Input, LSTM, Dense, Embedding\\nfrom tensorflow.keras import Model\\n\\n\\ndef _generate_elmo_embeddings():\\n    temp = X_train + X_test\\n    temp = list(\\n        set(\\n            [\\n                x\\n                for l in temp\\n                for x in l\\n                if x not in (ID2WORD[START_ID], ID2WORD[OOV_ID], \\\"\\\")\\n            ]\\n        )\\n    )\\n    elmo = hub.Module(\\\"https://tfhub.dev/google/elmo/3\\\", trainable=False)\\n    embeddings = elmo(temp, signature=\\\"default\\\", as_dict=True)[\\\"elmo\\\"]\\n\\n    with tf.Session() as sess:\\n        sess.run(tf.global_variables_initializer())\\n        embeddings = sess.run(embeddings)\\n\\n    emb_matrix = np.zeros((vocabulary_size, 1024))\\n    for word, emb in zip(temp, embeddings.squeeze(axis=1)):\\n        i = WORD2ID[word]\\n        emb_matrix[i] = emb\\n\\n    return emb_matrix\\n\\n\\nemb_matrix = _generate_elmo_embeddings()\";\n",
       "                var nbb_cells = Jupyter.notebook.get_cells();\n",
       "                for (var i = 0; i < nbb_cells.length; ++i) {\n",
       "                    if (nbb_cells[i].input_prompt_number == nbb_cell_id) {\n",
       "                        if (nbb_cells[i].get_text() == nbb_unformatted_code) {\n",
       "                             nbb_cells[i].set_text(nbb_formatted_code);\n",
       "                        }\n",
       "                        break;\n",
       "                    }\n",
       "                }\n",
       "            }, 500);\n",
       "            "
      ],
      "text/plain": [
       "<IPython.core.display.Javascript object>"
      ]
     },
     "metadata": {},
     "output_type": "display_data"
    }
   ],
   "source": [
    "import numpy as np\n",
    "import tensorflow_hub as hub\n",
    "import tensorflow as tf\n",
    "from tensorflow.keras.layers import Input, LSTM, Dense, Embedding\n",
    "from tensorflow.keras import Model\n",
    "\n",
    "\n",
    "def _generate_elmo_embeddings():\n",
    "    temp = X_train + X_test\n",
    "    temp = list(\n",
    "        set(\n",
    "            [\n",
    "                x\n",
    "                for l in temp\n",
    "                for x in l\n",
    "                if x not in (ID2WORD[START_ID], ID2WORD[OOV_ID], \"\")\n",
    "            ]\n",
    "        )\n",
    "    )\n",
    "    elmo = hub.Module(\"https://tfhub.dev/google/elmo/3\", trainable=False)\n",
    "    embeddings = elmo(temp, signature=\"default\", as_dict=True)[\"elmo\"]\n",
    "\n",
    "    with tf.Session() as sess:\n",
    "        sess.run(tf.global_variables_initializer())\n",
    "        embeddings = sess.run(embeddings)\n",
    "\n",
    "    emb_matrix = np.zeros((vocabulary_size, 1024))\n",
    "    for word, emb in zip(temp, embeddings.squeeze(axis=1)):\n",
    "        i = WORD2ID[word]\n",
    "        emb_matrix[i] = emb\n",
    "\n",
    "    return emb_matrix\n",
    "\n",
    "\n",
    "emb_matrix = _generate_elmo_embeddings()"
   ]
  },
  {
   "cell_type": "code",
   "execution_count": 5,
   "metadata": {
    "ExecuteTime": {
     "end_time": "2020-02-07T02:35:52.095897Z",
     "start_time": "2020-02-07T02:35:51.583733Z"
    },
    "scrolled": false
   },
   "outputs": [
    {
     "name": "stdout",
     "output_type": "stream",
     "text": [
      "WARNING:tensorflow:From /home/hardianlawi/anaconda3/envs/tensorflow_1x/lib/python3.7/site-packages/tensorflow_core/python/keras/initializers.py:119: calling RandomUniform.__init__ (from tensorflow.python.ops.init_ops) with dtype is deprecated and will be removed in a future version.\n",
      "Instructions for updating:\n",
      "Call initializer instance with the dtype argument instead of passing it to the constructor\n"
     ]
    },
    {
     "name": "stderr",
     "output_type": "stream",
     "text": [
      "WARNING:tensorflow:From /home/hardianlawi/anaconda3/envs/tensorflow_1x/lib/python3.7/site-packages/tensorflow_core/python/keras/initializers.py:119: calling RandomUniform.__init__ (from tensorflow.python.ops.init_ops) with dtype is deprecated and will be removed in a future version.\n",
      "Instructions for updating:\n",
      "Call initializer instance with the dtype argument instead of passing it to the constructor\n"
     ]
    },
    {
     "name": "stdout",
     "output_type": "stream",
     "text": [
      "WARNING:tensorflow:From /home/hardianlawi/anaconda3/envs/tensorflow_1x/lib/python3.7/site-packages/tensorflow_core/python/ops/resource_variable_ops.py:1630: calling BaseResourceVariable.__init__ (from tensorflow.python.ops.resource_variable_ops) with constraint is deprecated and will be removed in a future version.\n",
      "Instructions for updating:\n",
      "If using Keras pass *_constraint arguments to layers.\n"
     ]
    },
    {
     "name": "stderr",
     "output_type": "stream",
     "text": [
      "WARNING:tensorflow:From /home/hardianlawi/anaconda3/envs/tensorflow_1x/lib/python3.7/site-packages/tensorflow_core/python/ops/resource_variable_ops.py:1630: calling BaseResourceVariable.__init__ (from tensorflow.python.ops.resource_variable_ops) with constraint is deprecated and will be removed in a future version.\n",
      "Instructions for updating:\n",
      "If using Keras pass *_constraint arguments to layers.\n"
     ]
    },
    {
     "name": "stdout",
     "output_type": "stream",
     "text": [
      "WARNING:tensorflow:From /home/hardianlawi/anaconda3/envs/tensorflow_1x/lib/python3.7/site-packages/tensorflow_core/python/keras/backend.py:3994: where (from tensorflow.python.ops.array_ops) is deprecated and will be removed in a future version.\n",
      "Instructions for updating:\n",
      "Use tf.where in 2.0, which has the same broadcast rule as np.where\n"
     ]
    },
    {
     "name": "stderr",
     "output_type": "stream",
     "text": [
      "WARNING:tensorflow:From /home/hardianlawi/anaconda3/envs/tensorflow_1x/lib/python3.7/site-packages/tensorflow_core/python/keras/backend.py:3994: where (from tensorflow.python.ops.array_ops) is deprecated and will be removed in a future version.\n",
      "Instructions for updating:\n",
      "Use tf.where in 2.0, which has the same broadcast rule as np.where\n"
     ]
    },
    {
     "name": "stdout",
     "output_type": "stream",
     "text": [
      "Model: \"model\"\n",
      "________________________________________________________________________________________________________________________________________________________________________________________________________\n",
      "Layer (type)                                                                              Output Shape                                                                    Param #                       \n",
      "========================================================================================================================================================================================================\n",
      "input_1 (InputLayer)                                                                      [(None, 500)]                                                                   0                             \n",
      "________________________________________________________________________________________________________________________________________________________________________________________________________\n",
      "embedding (Embedding)                                                                     (None, 500, 1024)                                                               5120000                       \n",
      "________________________________________________________________________________________________________________________________________________________________________________________________________\n",
      "lstm (LSTM)                                                                               (None, 100)                                                                     450000                        \n",
      "________________________________________________________________________________________________________________________________________________________________________________________________________\n",
      "dense (Dense)                                                                             (None, 1)                                                                       101                           \n",
      "========================================================================================================================================================================================================\n",
      "Total params: 5,570,101\n",
      "Trainable params: 5,570,101\n",
      "Non-trainable params: 0\n",
      "________________________________________________________________________________________________________________________________________________________________________________________________________\n"
     ]
    },
    {
     "data": {
      "application/javascript": [
       "\n",
       "            setTimeout(function() {\n",
       "                var nbb_cell_id = 5;\n",
       "                var nbb_unformatted_code = \"def build_model():\\n    inp = Input(shape=(max_words,))\\n    emb = Embedding(\\n        vocabulary_size, 1024, mask_zero=True, weights=[emb_matrix], trainable=True\\n    )(inp)\\n    x = LSTM(units=100)(emb)\\n    x = Dense(1, activation=\\\"sigmoid\\\")(x)\\n    model = Model(inputs=inp, outputs=x)\\n    return model\\n\\n\\nmodel = build_model()\\nmodel.summary(line_length=200)\\nmodel.compile(loss=\\\"binary_crossentropy\\\", optimizer=\\\"adam\\\", metrics=[\\\"accuracy\\\"])\";\n",
       "                var nbb_formatted_code = \"def build_model():\\n    inp = Input(shape=(max_words,))\\n    emb = Embedding(\\n        vocabulary_size, 1024, mask_zero=True, weights=[emb_matrix], trainable=True\\n    )(inp)\\n    x = LSTM(units=100)(emb)\\n    x = Dense(1, activation=\\\"sigmoid\\\")(x)\\n    model = Model(inputs=inp, outputs=x)\\n    return model\\n\\n\\nmodel = build_model()\\nmodel.summary(line_length=200)\\nmodel.compile(loss=\\\"binary_crossentropy\\\", optimizer=\\\"adam\\\", metrics=[\\\"accuracy\\\"])\";\n",
       "                var nbb_cells = Jupyter.notebook.get_cells();\n",
       "                for (var i = 0; i < nbb_cells.length; ++i) {\n",
       "                    if (nbb_cells[i].input_prompt_number == nbb_cell_id) {\n",
       "                        if (nbb_cells[i].get_text() == nbb_unformatted_code) {\n",
       "                             nbb_cells[i].set_text(nbb_formatted_code);\n",
       "                        }\n",
       "                        break;\n",
       "                    }\n",
       "                }\n",
       "            }, 500);\n",
       "            "
      ],
      "text/plain": [
       "<IPython.core.display.Javascript object>"
      ]
     },
     "metadata": {},
     "output_type": "display_data"
    }
   ],
   "source": [
    "def build_model():\n",
    "    inp = Input(shape=(max_words,))\n",
    "    emb = Embedding(\n",
    "        vocabulary_size, 1024, mask_zero=True, weights=[emb_matrix], trainable=True\n",
    "    )(inp)\n",
    "    x = LSTM(units=100)(emb)\n",
    "    x = Dense(1, activation=\"sigmoid\")(x)\n",
    "    model = Model(inputs=inp, outputs=x)\n",
    "    return model\n",
    "\n",
    "\n",
    "model = build_model()\n",
    "model.summary(line_length=200)\n",
    "model.compile(loss=\"binary_crossentropy\", optimizer=\"adam\", metrics=[\"accuracy\"])"
   ]
  },
  {
   "cell_type": "code",
   "execution_count": 6,
   "metadata": {
    "ExecuteTime": {
     "end_time": "2020-02-07T02:36:02.368860Z",
     "start_time": "2020-02-07T02:35:52.097209Z"
    }
   },
   "outputs": [
    {
     "data": {
      "application/javascript": [
       "\n",
       "            setTimeout(function() {\n",
       "                var nbb_cell_id = 6;\n",
       "                var nbb_unformatted_code = \"preprocessor = Preprocessor(maxlen=max_words, oov_token=ID2WORD[OOV_ID])\\npreprocessor.fit_on_texts(X_train + X_test)\\n\\nX_train = preprocessor.transform(X_train)\\nX_test = preprocessor.transform(X_test)\";\n",
       "                var nbb_formatted_code = \"preprocessor = Preprocessor(maxlen=max_words, oov_token=ID2WORD[OOV_ID])\\npreprocessor.fit_on_texts(X_train + X_test)\\n\\nX_train = preprocessor.transform(X_train)\\nX_test = preprocessor.transform(X_test)\";\n",
       "                var nbb_cells = Jupyter.notebook.get_cells();\n",
       "                for (var i = 0; i < nbb_cells.length; ++i) {\n",
       "                    if (nbb_cells[i].input_prompt_number == nbb_cell_id) {\n",
       "                        if (nbb_cells[i].get_text() == nbb_unformatted_code) {\n",
       "                             nbb_cells[i].set_text(nbb_formatted_code);\n",
       "                        }\n",
       "                        break;\n",
       "                    }\n",
       "                }\n",
       "            }, 500);\n",
       "            "
      ],
      "text/plain": [
       "<IPython.core.display.Javascript object>"
      ]
     },
     "metadata": {},
     "output_type": "display_data"
    }
   ],
   "source": [
    "preprocessor = Preprocessor(maxlen=max_words, oov_token=ID2WORD[OOV_ID])\n",
    "preprocessor.fit_on_texts(X_train + X_test)\n",
    "\n",
    "X_train = preprocessor.transform(X_train)\n",
    "X_test = preprocessor.transform(X_test)"
   ]
  },
  {
   "cell_type": "code",
   "execution_count": 7,
   "metadata": {
    "ExecuteTime": {
     "end_time": "2020-02-07T03:39:32.472748Z",
     "start_time": "2020-02-07T02:36:02.370349Z"
    }
   },
   "outputs": [
    {
     "name": "stdout",
     "output_type": "stream",
     "text": [
      "Train on 24936 samples, validate on 64 samples\n",
      "Epoch 1/3\n",
      "24936/24936 [==============================] - 1103s 44ms/sample - loss: 0.4746 - acc: 0.7491 - val_loss: 0.2278 - val_acc: 0.9219\n",
      "Epoch 2/3\n",
      "24936/24936 [==============================] - 1361s 55ms/sample - loss: 0.2395 - acc: 0.9037 - val_loss: 0.1981 - val_acc: 0.9219\n",
      "Epoch 3/3\n",
      "24936/24936 [==============================] - 1345s 54ms/sample - loss: 0.1710 - acc: 0.9353 - val_loss: 0.1947 - val_acc: 0.9219\n"
     ]
    },
    {
     "data": {
      "text/plain": [
       "<tensorflow.python.keras.callbacks.History at 0x7f3a9376cd90>"
      ]
     },
     "execution_count": 7,
     "metadata": {},
     "output_type": "execute_result"
    },
    {
     "data": {
      "application/javascript": [
       "\n",
       "            setTimeout(function() {\n",
       "                var nbb_cell_id = 7;\n",
       "                var nbb_unformatted_code = \"batch_size = 64\\nnum_epochs = 3\\nX_valid, y_valid = X_train[:batch_size], y_train[:batch_size]\\nX_train2, y_train2 = X_train[batch_size:], y_train[batch_size:]\\n\\nmodel.fit(\\n    X_train2,\\n    y_train2,\\n    validation_data=(X_valid, y_valid),\\n    batch_size=batch_size,\\n    epochs=num_epochs,\\n)\";\n",
       "                var nbb_formatted_code = \"batch_size = 64\\nnum_epochs = 3\\nX_valid, y_valid = X_train[:batch_size], y_train[:batch_size]\\nX_train2, y_train2 = X_train[batch_size:], y_train[batch_size:]\\n\\nmodel.fit(\\n    X_train2,\\n    y_train2,\\n    validation_data=(X_valid, y_valid),\\n    batch_size=batch_size,\\n    epochs=num_epochs,\\n)\";\n",
       "                var nbb_cells = Jupyter.notebook.get_cells();\n",
       "                for (var i = 0; i < nbb_cells.length; ++i) {\n",
       "                    if (nbb_cells[i].input_prompt_number == nbb_cell_id) {\n",
       "                        if (nbb_cells[i].get_text() == nbb_unformatted_code) {\n",
       "                             nbb_cells[i].set_text(nbb_formatted_code);\n",
       "                        }\n",
       "                        break;\n",
       "                    }\n",
       "                }\n",
       "            }, 500);\n",
       "            "
      ],
      "text/plain": [
       "<IPython.core.display.Javascript object>"
      ]
     },
     "metadata": {},
     "output_type": "display_data"
    }
   ],
   "source": [
    "batch_size = 64\n",
    "num_epochs = 3\n",
    "X_valid, y_valid = X_train[:batch_size], y_train[:batch_size]\n",
    "X_train2, y_train2 = X_train[batch_size:], y_train[batch_size:]\n",
    "\n",
    "model.fit(\n",
    "    X_train2,\n",
    "    y_train2,\n",
    "    validation_data=(X_valid, y_valid),\n",
    "    batch_size=batch_size,\n",
    "    epochs=num_epochs,\n",
    ")"
   ]
  },
  {
   "cell_type": "code",
   "execution_count": 8,
   "metadata": {
    "ExecuteTime": {
     "end_time": "2020-02-07T03:45:45.710737Z",
     "start_time": "2020-02-07T03:39:32.474898Z"
    }
   },
   "outputs": [
    {
     "name": "stdout",
     "output_type": "stream",
     "text": [
      "Test accuracy: 0.88844\n"
     ]
    },
    {
     "data": {
      "application/javascript": [
       "\n",
       "            setTimeout(function() {\n",
       "                var nbb_cell_id = 8;\n",
       "                var nbb_unformatted_code = \"scores = model.evaluate(X_test, y_test, verbose=0)\\nprint(\\\"Test accuracy:\\\", scores[1])\";\n",
       "                var nbb_formatted_code = \"scores = model.evaluate(X_test, y_test, verbose=0)\\nprint(\\\"Test accuracy:\\\", scores[1])\";\n",
       "                var nbb_cells = Jupyter.notebook.get_cells();\n",
       "                for (var i = 0; i < nbb_cells.length; ++i) {\n",
       "                    if (nbb_cells[i].input_prompt_number == nbb_cell_id) {\n",
       "                        if (nbb_cells[i].get_text() == nbb_unformatted_code) {\n",
       "                             nbb_cells[i].set_text(nbb_formatted_code);\n",
       "                        }\n",
       "                        break;\n",
       "                    }\n",
       "                }\n",
       "            }, 500);\n",
       "            "
      ],
      "text/plain": [
       "<IPython.core.display.Javascript object>"
      ]
     },
     "metadata": {},
     "output_type": "display_data"
    }
   ],
   "source": [
    "scores = model.evaluate(X_test, y_test, verbose=0)\n",
    "print(\"Test accuracy:\", scores[1])"
   ]
  }
 ],
 "metadata": {
  "kernelspec": {
   "display_name": "tensorflow_1x",
   "language": "python",
   "name": "tensorflow_1x"
  },
  "language_info": {
   "codemirror_mode": {
    "name": "ipython",
    "version": 3
   },
   "file_extension": ".py",
   "mimetype": "text/x-python",
   "name": "python",
   "nbconvert_exporter": "python",
   "pygments_lexer": "ipython3",
   "version": "3.7.6"
  },
  "toc": {
   "base_numbering": 1,
   "nav_menu": {},
   "number_sections": true,
   "sideBar": true,
   "skip_h1_title": false,
   "title_cell": "Table of Contents",
   "title_sidebar": "Contents",
   "toc_cell": false,
   "toc_position": {},
   "toc_section_display": true,
   "toc_window_display": false
  }
 },
 "nbformat": 4,
 "nbformat_minor": 2
}
