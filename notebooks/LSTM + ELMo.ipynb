{
 "cells": [
  {
   "cell_type": "code",
   "execution_count": 1,
   "metadata": {
    "ExecuteTime": {
     "end_time": "2020-02-09T10:05:32.759708Z",
     "start_time": "2020-02-09T10:05:32.656721Z"
    }
   },
   "outputs": [
    {
     "name": "stdout",
     "output_type": "stream",
     "text": [
      "/home/hardianlawi/attention-lstm-sentiment-analysis\n"
     ]
    },
    {
     "data": {
      "application/javascript": [
       "\n",
       "            setTimeout(function() {\n",
       "                var nbb_cell_id = 1;\n",
       "                var nbb_unformatted_code = \"%cd ..\\n%load_ext nb_black\";\n",
       "                var nbb_formatted_code = \"%cd ..\\n%load_ext nb_black\";\n",
       "                var nbb_cells = Jupyter.notebook.get_cells();\n",
       "                for (var i = 0; i < nbb_cells.length; ++i) {\n",
       "                    if (nbb_cells[i].input_prompt_number == nbb_cell_id) {\n",
       "                        if (nbb_cells[i].get_text() == nbb_unformatted_code) {\n",
       "                             nbb_cells[i].set_text(nbb_formatted_code);\n",
       "                        }\n",
       "                        break;\n",
       "                    }\n",
       "                }\n",
       "            }, 500);\n",
       "            "
      ],
      "text/plain": [
       "<IPython.core.display.Javascript object>"
      ]
     },
     "metadata": {},
     "output_type": "display_data"
    }
   ],
   "source": [
    "%cd ..\n",
    "%load_ext nb_black"
   ]
  },
  {
   "cell_type": "code",
   "execution_count": 2,
   "metadata": {
    "ExecuteTime": {
     "end_time": "2020-02-09T10:05:34.354752Z",
     "start_time": "2020-02-09T10:05:32.761410Z"
    }
   },
   "outputs": [
    {
     "data": {
      "application/javascript": [
       "\n",
       "            setTimeout(function() {\n",
       "                var nbb_cell_id = 2;\n",
       "                var nbb_unformatted_code = \"import numpy as np\\nimport tensorflow as tf\\nimport tensorflow.keras.backend as K\\nimport tensorflow_hub as hub\\nimport tensorflow_datasets as tfds\\nfrom src.preprocess import Preprocessor\\nfrom src.data import get_data\\nfrom src.models import get_model\";\n",
       "                var nbb_formatted_code = \"import numpy as np\\nimport tensorflow as tf\\nimport tensorflow.keras.backend as K\\nimport tensorflow_hub as hub\\nimport tensorflow_datasets as tfds\\nfrom src.preprocess import Preprocessor\\nfrom src.data import get_data\\nfrom src.models import get_model\";\n",
       "                var nbb_cells = Jupyter.notebook.get_cells();\n",
       "                for (var i = 0; i < nbb_cells.length; ++i) {\n",
       "                    if (nbb_cells[i].input_prompt_number == nbb_cell_id) {\n",
       "                        if (nbb_cells[i].get_text() == nbb_unformatted_code) {\n",
       "                             nbb_cells[i].set_text(nbb_formatted_code);\n",
       "                        }\n",
       "                        break;\n",
       "                    }\n",
       "                }\n",
       "            }, 500);\n",
       "            "
      ],
      "text/plain": [
       "<IPython.core.display.Javascript object>"
      ]
     },
     "metadata": {},
     "output_type": "display_data"
    }
   ],
   "source": [
    "import numpy as np\n",
    "import tensorflow as tf\n",
    "import tensorflow.keras.backend as K\n",
    "import tensorflow_hub as hub\n",
    "import tensorflow_datasets as tfds\n",
    "from src.preprocess import Preprocessor\n",
    "from src.data import get_data\n",
    "from src.models import get_model"
   ]
  },
  {
   "cell_type": "code",
   "execution_count": 3,
   "metadata": {
    "ExecuteTime": {
     "end_time": "2020-02-09T10:05:50.548096Z",
     "start_time": "2020-02-09T10:05:34.356861Z"
    }
   },
   "outputs": [
    {
     "name": "stdout",
     "output_type": "stream",
     "text": [
      "Train size: 23750\n",
      "Val size: 1250\n",
      "Test size: 25000\n"
     ]
    },
    {
     "data": {
      "application/javascript": [
       "\n",
       "            setTimeout(function() {\n",
       "                var nbb_cell_id = 3;\n",
       "                var nbb_unformatted_code = \"(str_X_train, y_train), (str_X_val, y_val), (str_X_test, y_test) = get_data()\\n\\nprint(\\\"Train size:\\\", len(str_X_train))\\nprint(\\\"Val size:\\\", len(str_X_val))\\nprint(\\\"Test size:\\\", len(str_X_test))\";\n",
       "                var nbb_formatted_code = \"(str_X_train, y_train), (str_X_val, y_val), (str_X_test, y_test) = get_data()\\n\\nprint(\\\"Train size:\\\", len(str_X_train))\\nprint(\\\"Val size:\\\", len(str_X_val))\\nprint(\\\"Test size:\\\", len(str_X_test))\";\n",
       "                var nbb_cells = Jupyter.notebook.get_cells();\n",
       "                for (var i = 0; i < nbb_cells.length; ++i) {\n",
       "                    if (nbb_cells[i].input_prompt_number == nbb_cell_id) {\n",
       "                        if (nbb_cells[i].get_text() == nbb_unformatted_code) {\n",
       "                             nbb_cells[i].set_text(nbb_formatted_code);\n",
       "                        }\n",
       "                        break;\n",
       "                    }\n",
       "                }\n",
       "            }, 500);\n",
       "            "
      ],
      "text/plain": [
       "<IPython.core.display.Javascript object>"
      ]
     },
     "metadata": {},
     "output_type": "display_data"
    }
   ],
   "source": [
    "(str_X_train, y_train), (str_X_val, y_val), (str_X_test, y_test) = get_data()\n",
    "\n",
    "print(\"Train size:\", len(str_X_train))\n",
    "print(\"Val size:\", len(str_X_val))\n",
    "print(\"Test size:\", len(str_X_test))"
   ]
  },
  {
   "cell_type": "code",
   "execution_count": 4,
   "metadata": {
    "ExecuteTime": {
     "end_time": "2020-02-09T10:05:51.302584Z",
     "start_time": "2020-02-09T10:05:50.550144Z"
    }
   },
   "outputs": [
    {
     "name": "stdout",
     "output_type": "stream",
     "text": [
      "Maximum review length: 2470\n",
      "Minimum review length: 4\n"
     ]
    },
    {
     "data": {
      "application/javascript": [
       "\n",
       "            setTimeout(function() {\n",
       "                var nbb_cell_id = 4;\n",
       "                var nbb_unformatted_code = \"sentence_lens = list(\\n    map(lambda x: len(x.split()), str_X_train + str_X_val + str_X_test)\\n)\\nprint(\\\"Maximum review length: {}\\\".format(max(sentence_lens)))\\nprint(\\\"Minimum review length: {}\\\".format(min(sentence_lens)))\";\n",
       "                var nbb_formatted_code = \"sentence_lens = list(\\n    map(lambda x: len(x.split()), str_X_train + str_X_val + str_X_test)\\n)\\nprint(\\\"Maximum review length: {}\\\".format(max(sentence_lens)))\\nprint(\\\"Minimum review length: {}\\\".format(min(sentence_lens)))\";\n",
       "                var nbb_cells = Jupyter.notebook.get_cells();\n",
       "                for (var i = 0; i < nbb_cells.length; ++i) {\n",
       "                    if (nbb_cells[i].input_prompt_number == nbb_cell_id) {\n",
       "                        if (nbb_cells[i].get_text() == nbb_unformatted_code) {\n",
       "                             nbb_cells[i].set_text(nbb_formatted_code);\n",
       "                        }\n",
       "                        break;\n",
       "                    }\n",
       "                }\n",
       "            }, 500);\n",
       "            "
      ],
      "text/plain": [
       "<IPython.core.display.Javascript object>"
      ]
     },
     "metadata": {},
     "output_type": "display_data"
    }
   ],
   "source": [
    "sentence_lens = list(\n",
    "    map(lambda x: len(x.split()), str_X_train + str_X_val + str_X_test)\n",
    ")\n",
    "print(\"Maximum review length: {}\".format(max(sentence_lens)))\n",
    "print(\"Minimum review length: {}\".format(min(sentence_lens)))"
   ]
  },
  {
   "cell_type": "code",
   "execution_count": 5,
   "metadata": {
    "ExecuteTime": {
     "end_time": "2020-02-09T10:06:01.054970Z",
     "start_time": "2020-02-09T10:05:51.304275Z"
    }
   },
   "outputs": [
    {
     "data": {
      "application/javascript": [
       "\n",
       "            setTimeout(function() {\n",
       "                var nbb_cell_id = 5;\n",
       "                var nbb_unformatted_code = \"max_words = 500\\nvocab_size = 5000\\n\\npreprocessor = Preprocessor(maxlen=max_words, vocab_size=vocab_size, oov_token=\\\"<OOV>\\\")\\npreprocessor.fit_on_texts(str_X_train + str_X_val + str_X_test)\";\n",
       "                var nbb_formatted_code = \"max_words = 500\\nvocab_size = 5000\\n\\npreprocessor = Preprocessor(maxlen=max_words, vocab_size=vocab_size, oov_token=\\\"<OOV>\\\")\\npreprocessor.fit_on_texts(str_X_train + str_X_val + str_X_test)\";\n",
       "                var nbb_cells = Jupyter.notebook.get_cells();\n",
       "                for (var i = 0; i < nbb_cells.length; ++i) {\n",
       "                    if (nbb_cells[i].input_prompt_number == nbb_cell_id) {\n",
       "                        if (nbb_cells[i].get_text() == nbb_unformatted_code) {\n",
       "                             nbb_cells[i].set_text(nbb_formatted_code);\n",
       "                        }\n",
       "                        break;\n",
       "                    }\n",
       "                }\n",
       "            }, 500);\n",
       "            "
      ],
      "text/plain": [
       "<IPython.core.display.Javascript object>"
      ]
     },
     "metadata": {},
     "output_type": "display_data"
    }
   ],
   "source": [
    "max_words = 500\n",
    "vocab_size = 5000\n",
    "\n",
    "preprocessor = Preprocessor(maxlen=max_words, vocab_size=vocab_size, oov_token=\"<OOV>\")\n",
    "preprocessor.fit_on_texts(str_X_train + str_X_val + str_X_test)"
   ]
  },
  {
   "cell_type": "code",
   "execution_count": 6,
   "metadata": {
    "ExecuteTime": {
     "end_time": "2020-02-09T10:06:17.653489Z",
     "start_time": "2020-02-09T10:06:01.056683Z"
    }
   },
   "outputs": [
    {
     "data": {
      "application/javascript": [
       "\n",
       "            setTimeout(function() {\n",
       "                var nbb_cell_id = 6;\n",
       "                var nbb_unformatted_code = \"def generate_unique_tokens(X):\\n    seqs = preprocessor._tokenizer.texts_to_sequences(X)\\n    unique_tokens = list(\\n        set([preprocessor._tokenizer.index_word[x] for seq in seqs for x in seq])\\n    )\\n    return unique_tokens\\n\\n\\nunique_tokens = generate_unique_tokens(str_X_train + str_X_val + str_X_test)\\n\\nX_train = preprocessor.transform(str_X_train)\\nX_val = preprocessor.transform(str_X_val)\\nX_test = preprocessor.transform(str_X_test)\";\n",
       "                var nbb_formatted_code = \"def generate_unique_tokens(X):\\n    seqs = preprocessor._tokenizer.texts_to_sequences(X)\\n    unique_tokens = list(\\n        set([preprocessor._tokenizer.index_word[x] for seq in seqs for x in seq])\\n    )\\n    return unique_tokens\\n\\n\\nunique_tokens = generate_unique_tokens(str_X_train + str_X_val + str_X_test)\\n\\nX_train = preprocessor.transform(str_X_train)\\nX_val = preprocessor.transform(str_X_val)\\nX_test = preprocessor.transform(str_X_test)\";\n",
       "                var nbb_cells = Jupyter.notebook.get_cells();\n",
       "                for (var i = 0; i < nbb_cells.length; ++i) {\n",
       "                    if (nbb_cells[i].input_prompt_number == nbb_cell_id) {\n",
       "                        if (nbb_cells[i].get_text() == nbb_unformatted_code) {\n",
       "                             nbb_cells[i].set_text(nbb_formatted_code);\n",
       "                        }\n",
       "                        break;\n",
       "                    }\n",
       "                }\n",
       "            }, 500);\n",
       "            "
      ],
      "text/plain": [
       "<IPython.core.display.Javascript object>"
      ]
     },
     "metadata": {},
     "output_type": "display_data"
    }
   ],
   "source": [
    "def generate_unique_tokens(X):\n",
    "    seqs = preprocessor._tokenizer.texts_to_sequences(X)\n",
    "    unique_tokens = list(\n",
    "        set([preprocessor._tokenizer.index_word[x] for seq in seqs for x in seq])\n",
    "    )\n",
    "    return unique_tokens\n",
    "\n",
    "\n",
    "unique_tokens = generate_unique_tokens(str_X_train + str_X_val + str_X_test)\n",
    "\n",
    "X_train = preprocessor.transform(str_X_train)\n",
    "X_val = preprocessor.transform(str_X_val)\n",
    "X_test = preprocessor.transform(str_X_test)"
   ]
  },
  {
   "cell_type": "code",
   "execution_count": 7,
   "metadata": {
    "ExecuteTime": {
     "end_time": "2020-02-09T10:06:19.346522Z",
     "start_time": "2020-02-09T10:06:17.655146Z"
    },
    "scrolled": true
   },
   "outputs": [
    {
     "name": "stdout",
     "output_type": "stream",
     "text": [
      "INFO:tensorflow:Saver not created because there are no variables in the graph to restore\n"
     ]
    },
    {
     "name": "stderr",
     "output_type": "stream",
     "text": [
      "INFO:tensorflow:Saver not created because there are no variables in the graph to restore\n"
     ]
    },
    {
     "name": "stdout",
     "output_type": "stream",
     "text": [
      "WARNING:tensorflow:From /home/hardianlawi/anaconda3/envs/tensorflow_1x/lib/python3.7/site-packages/tensorflow_core/python/ops/array_ops.py:1475: where (from tensorflow.python.ops.array_ops) is deprecated and will be removed in a future version.\n",
      "Instructions for updating:\n",
      "Use tf.where in 2.0, which has the same broadcast rule as np.where\n"
     ]
    },
    {
     "name": "stderr",
     "output_type": "stream",
     "text": [
      "WARNING:tensorflow:From /home/hardianlawi/anaconda3/envs/tensorflow_1x/lib/python3.7/site-packages/tensorflow_core/python/ops/array_ops.py:1475: where (from tensorflow.python.ops.array_ops) is deprecated and will be removed in a future version.\n",
      "Instructions for updating:\n",
      "Use tf.where in 2.0, which has the same broadcast rule as np.where\n"
     ]
    },
    {
     "name": "stdout",
     "output_type": "stream",
     "text": [
      "INFO:tensorflow:Graph was finalized.\n"
     ]
    },
    {
     "name": "stderr",
     "output_type": "stream",
     "text": [
      "INFO:tensorflow:Graph was finalized.\n"
     ]
    },
    {
     "name": "stdout",
     "output_type": "stream",
     "text": [
      "INFO:tensorflow:Running local_init_op.\n"
     ]
    },
    {
     "name": "stderr",
     "output_type": "stream",
     "text": [
      "INFO:tensorflow:Running local_init_op.\n"
     ]
    },
    {
     "name": "stdout",
     "output_type": "stream",
     "text": [
      "INFO:tensorflow:Done running local_init_op.\n"
     ]
    },
    {
     "name": "stderr",
     "output_type": "stream",
     "text": [
      "INFO:tensorflow:Done running local_init_op.\n"
     ]
    },
    {
     "data": {
      "application/javascript": [
       "\n",
       "            setTimeout(function() {\n",
       "                var nbb_cell_id = 7;\n",
       "                var nbb_unformatted_code = \"def embed_elmo(module):\\n    with tf.Graph().as_default():\\n        sentences = tf.placeholder(tf.string)\\n        embed = hub.Module(module, trainable=False)\\n        embeddings = embed(sentences, signature=\\\"default\\\", as_dict=True)[\\\"elmo\\\"]\\n        session = tf.train.MonitoredSession()\\n    return lambda x: session.run(embeddings, {sentences: x})\\n\\n\\nembed_fn = embed_elmo(\\\"https://tfhub.dev/google/elmo/3\\\")\";\n",
       "                var nbb_formatted_code = \"def embed_elmo(module):\\n    with tf.Graph().as_default():\\n        sentences = tf.placeholder(tf.string)\\n        embed = hub.Module(module, trainable=False)\\n        embeddings = embed(sentences, signature=\\\"default\\\", as_dict=True)[\\\"elmo\\\"]\\n        session = tf.train.MonitoredSession()\\n    return lambda x: session.run(embeddings, {sentences: x})\\n\\n\\nembed_fn = embed_elmo(\\\"https://tfhub.dev/google/elmo/3\\\")\";\n",
       "                var nbb_cells = Jupyter.notebook.get_cells();\n",
       "                for (var i = 0; i < nbb_cells.length; ++i) {\n",
       "                    if (nbb_cells[i].input_prompt_number == nbb_cell_id) {\n",
       "                        if (nbb_cells[i].get_text() == nbb_unformatted_code) {\n",
       "                             nbb_cells[i].set_text(nbb_formatted_code);\n",
       "                        }\n",
       "                        break;\n",
       "                    }\n",
       "                }\n",
       "            }, 500);\n",
       "            "
      ],
      "text/plain": [
       "<IPython.core.display.Javascript object>"
      ]
     },
     "metadata": {},
     "output_type": "display_data"
    }
   ],
   "source": [
    "def embed_elmo(module):\n",
    "    with tf.Graph().as_default():\n",
    "        sentences = tf.placeholder(tf.string)\n",
    "        embed = hub.Module(module, trainable=False)\n",
    "        embeddings = embed(sentences, signature=\"default\", as_dict=True)[\"elmo\"]\n",
    "        session = tf.train.MonitoredSession()\n",
    "    return lambda x: session.run(embeddings, {sentences: x})\n",
    "\n",
    "\n",
    "embed_fn = embed_elmo(\"https://tfhub.dev/google/elmo/3\")\n"
   ]
  },
  {
   "cell_type": "code",
   "execution_count": 8,
   "metadata": {
    "ExecuteTime": {
     "end_time": "2020-02-09T10:06:24.748429Z",
     "start_time": "2020-02-09T10:06:19.348740Z"
    }
   },
   "outputs": [
    {
     "data": {
      "text/plain": [
       "(5000, 1024)"
      ]
     },
     "execution_count": 8,
     "metadata": {},
     "output_type": "execute_result"
    },
    {
     "data": {
      "application/javascript": [
       "\n",
       "            setTimeout(function() {\n",
       "                var nbb_cell_id = 8;\n",
       "                var nbb_unformatted_code = \"# def _generate_elmo_embeddings():\\n#     elmo = hub.Module(\\\"https://tfhub.dev/google/elmo/3\\\", trainable=False)\\n#     inp = tf.placeholder(tf.string, shape=[None])\\n#     embeddings = elmo(inp, signature=\\\"default\\\", as_dict=True)[\\\"elmo\\\"]\\n\\n#     emb_matrix = np.zeros((vocab_size, 1024))\\n#     with tf.Session(graph=graph) as sess:\\n#         sess.run(tf.global_variables_initializer())\\n#         for x in range(0, len(unique_tokens), 1000):\\n#             temp = unique_tokens[x : x + 1000]\\n#             print(temp)\\n#             embeddings = sess.run(embeddings, feed_dict={x: temp})\\n#             for word, embeddings in zip(temp, embeddings.squeeze(axis=1)):\\n#                 i = preprocessor._word2id[word]\\n#                 emb_matrix[i] = emb\\n\\n#     return emb_matrix\\n\\n\\ndef _generate_elmo_embeddings():\\n    emb_matrix = np.zeros((vocab_size, 1024))\\n    for x in range(0, len(unique_tokens), 10000):\\n        temp = unique_tokens[x : x + 1000]\\n        embeddings = embed_fn(temp)\\n        for word, emb in zip(temp, embeddings.squeeze(axis=1)):\\n            i = preprocessor.word2id[word]\\n            emb_matrix[i] = emb\\n    return emb_matrix\\n\\n\\nemb_matrix = _generate_elmo_embeddings()\\nemb_matrix.shape\";\n",
       "                var nbb_formatted_code = \"# def _generate_elmo_embeddings():\\n#     elmo = hub.Module(\\\"https://tfhub.dev/google/elmo/3\\\", trainable=False)\\n#     inp = tf.placeholder(tf.string, shape=[None])\\n#     embeddings = elmo(inp, signature=\\\"default\\\", as_dict=True)[\\\"elmo\\\"]\\n\\n#     emb_matrix = np.zeros((vocab_size, 1024))\\n#     with tf.Session(graph=graph) as sess:\\n#         sess.run(tf.global_variables_initializer())\\n#         for x in range(0, len(unique_tokens), 1000):\\n#             temp = unique_tokens[x : x + 1000]\\n#             print(temp)\\n#             embeddings = sess.run(embeddings, feed_dict={x: temp})\\n#             for word, embeddings in zip(temp, embeddings.squeeze(axis=1)):\\n#                 i = preprocessor._word2id[word]\\n#                 emb_matrix[i] = emb\\n\\n#     return emb_matrix\\n\\n\\ndef _generate_elmo_embeddings():\\n    emb_matrix = np.zeros((vocab_size, 1024))\\n    for x in range(0, len(unique_tokens), 10000):\\n        temp = unique_tokens[x : x + 1000]\\n        embeddings = embed_fn(temp)\\n        for word, emb in zip(temp, embeddings.squeeze(axis=1)):\\n            i = preprocessor.word2id[word]\\n            emb_matrix[i] = emb\\n    return emb_matrix\\n\\n\\nemb_matrix = _generate_elmo_embeddings()\\nemb_matrix.shape\";\n",
       "                var nbb_cells = Jupyter.notebook.get_cells();\n",
       "                for (var i = 0; i < nbb_cells.length; ++i) {\n",
       "                    if (nbb_cells[i].input_prompt_number == nbb_cell_id) {\n",
       "                        if (nbb_cells[i].get_text() == nbb_unformatted_code) {\n",
       "                             nbb_cells[i].set_text(nbb_formatted_code);\n",
       "                        }\n",
       "                        break;\n",
       "                    }\n",
       "                }\n",
       "            }, 500);\n",
       "            "
      ],
      "text/plain": [
       "<IPython.core.display.Javascript object>"
      ]
     },
     "metadata": {},
     "output_type": "display_data"
    }
   ],
   "source": [
    "def _generate_elmo_embeddings():\n",
    "    emb_matrix = np.zeros((vocab_size, 1024))\n",
    "    for x in range(0, len(unique_tokens), 10000):\n",
    "        temp = unique_tokens[x : x + 1000]\n",
    "        embeddings = embed_fn(temp)\n",
    "        for word, emb in zip(temp, embeddings.squeeze(axis=1)):\n",
    "            i = preprocessor.word2id[word]\n",
    "            emb_matrix[i] = emb\n",
    "    return emb_matrix\n",
    "\n",
    "\n",
    "emb_matrix = _generate_elmo_embeddings()\n",
    "emb_matrix.shape"
   ]
  },
  {
   "cell_type": "code",
   "execution_count": 9,
   "metadata": {
    "ExecuteTime": {
     "end_time": "2020-02-09T10:46:04.176463Z",
     "start_time": "2020-02-09T10:06:24.750146Z"
    },
    "code_folding": [],
    "scrolled": true
   },
   "outputs": [
    {
     "name": "stdout",
     "output_type": "stream",
     "text": [
      "WARNING:tensorflow:From /home/hardianlawi/anaconda3/envs/tensorflow_1x/lib/python3.7/site-packages/tensorflow_core/python/keras/initializers.py:119: calling RandomUniform.__init__ (from tensorflow.python.ops.init_ops) with dtype is deprecated and will be removed in a future version.\n",
      "Instructions for updating:\n",
      "Call initializer instance with the dtype argument instead of passing it to the constructor\n"
     ]
    },
    {
     "name": "stderr",
     "output_type": "stream",
     "text": [
      "WARNING:tensorflow:From /home/hardianlawi/anaconda3/envs/tensorflow_1x/lib/python3.7/site-packages/tensorflow_core/python/keras/initializers.py:119: calling RandomUniform.__init__ (from tensorflow.python.ops.init_ops) with dtype is deprecated and will be removed in a future version.\n",
      "Instructions for updating:\n",
      "Call initializer instance with the dtype argument instead of passing it to the constructor\n"
     ]
    },
    {
     "name": "stdout",
     "output_type": "stream",
     "text": [
      "WARNING:tensorflow:From /home/hardianlawi/anaconda3/envs/tensorflow_1x/lib/python3.7/site-packages/tensorflow_core/python/ops/resource_variable_ops.py:1630: calling BaseResourceVariable.__init__ (from tensorflow.python.ops.resource_variable_ops) with constraint is deprecated and will be removed in a future version.\n",
      "Instructions for updating:\n",
      "If using Keras pass *_constraint arguments to layers.\n"
     ]
    },
    {
     "name": "stderr",
     "output_type": "stream",
     "text": [
      "WARNING:tensorflow:From /home/hardianlawi/anaconda3/envs/tensorflow_1x/lib/python3.7/site-packages/tensorflow_core/python/ops/resource_variable_ops.py:1630: calling BaseResourceVariable.__init__ (from tensorflow.python.ops.resource_variable_ops) with constraint is deprecated and will be removed in a future version.\n",
      "Instructions for updating:\n",
      "If using Keras pass *_constraint arguments to layers.\n"
     ]
    },
    {
     "name": "stdout",
     "output_type": "stream",
     "text": [
      "Model: \"model\"\n",
      "________________________________________________________________________________________________________________________________________________________________________________________________________\n",
      "Layer (type)                                                                              Output Shape                                                                    Param #                       \n",
      "========================================================================================================================================================================================================\n",
      "input_1 (InputLayer)                                                                      [(None, 500)]                                                                   0                             \n",
      "________________________________________________________________________________________________________________________________________________________________________________________________________\n",
      "embedding (Embedding)                                                                     (None, 500, 1024)                                                               5120000                       \n",
      "________________________________________________________________________________________________________________________________________________________________________________________________________\n",
      "lstm (LSTM)                                                                               (None, 32)                                                                      135296                        \n",
      "________________________________________________________________________________________________________________________________________________________________________________________________________\n",
      "dense (Dense)                                                                             (None, 1)                                                                       33                            \n",
      "========================================================================================================================================================================================================\n",
      "Total params: 5,255,329\n",
      "Trainable params: 5,255,329\n",
      "Non-trainable params: 0\n",
      "________________________________________________________________________________________________________________________________________________________________________________________________________\n",
      "Train on 23750 samples, validate on 1250 samples\n",
      "Epoch 1/5\n",
      "23750/23750 [==============================] - 451s 19ms/sample - loss: 0.4878 - acc: 0.7617 - val_loss: 0.4285 - val_acc: 0.8080\n",
      "Epoch 2/5\n",
      "23750/23750 [==============================] - 446s 19ms/sample - loss: 0.3048 - acc: 0.8764 - val_loss: 0.3259 - val_acc: 0.8664\n",
      "Epoch 3/5\n",
      "23750/23750 [==============================] - 448s 19ms/sample - loss: 0.2309 - acc: 0.9106 - val_loss: 0.3229 - val_acc: 0.8616\n",
      "Epoch 4/5\n",
      "23750/23750 [==============================] - 450s 19ms/sample - loss: 0.1799 - acc: 0.9318 - val_loss: 0.2968 - val_acc: 0.8784\n",
      "Epoch 5/5\n",
      "23750/23750 [==============================] - 450s 19ms/sample - loss: 0.1505 - acc: 0.9432 - val_loss: 0.3498 - val_acc: 0.8816\n",
      "Test accuracy: 0.86916\n"
     ]
    },
    {
     "data": {
      "application/javascript": [
       "\n",
       "            setTimeout(function() {\n",
       "                var nbb_cell_id = 9;\n",
       "                var nbb_unformatted_code = \"from tensorflow.keras.layers import Input, LSTM, Dense, Embedding\\nfrom tensorflow.keras import Model\\n\\nbatch_size = 64\\nepochs = 5\\n\\ndef build_model():\\n    inp = Input(shape=(max_words,))\\n    emb = Embedding(\\n        vocab_size, 1024, mask_zero=True, weights=[emb_matrix], trainable=True\\n    )(inp)\\n    x = LSTM(units=32)(emb)\\n    x = Dense(1, activation=\\\"sigmoid\\\")(x)\\n    model = Model(inputs=inp, outputs=x)\\n    return model\\n\\nmodel = build_model()\\nmodel.summary(line_length=200)\\nmodel.compile(loss=\\\"binary_crossentropy\\\", optimizer=\\\"adam\\\", metrics=[\\\"accuracy\\\"])\\n\\nmodel.fit(\\n    X_train,\\n    y_train,\\n    validation_data=(X_val, y_val),\\n    batch_size=batch_size,\\n    epochs=epochs,\\n)\\n\\nscores = model.evaluate(X_test, y_test, verbose=0)\\nprint(\\\"Test accuracy:\\\", scores[1])\";\n",
       "                var nbb_formatted_code = \"from tensorflow.keras.layers import Input, LSTM, Dense, Embedding\\nfrom tensorflow.keras import Model\\n\\nbatch_size = 64\\nepochs = 5\\n\\n\\ndef build_model():\\n    inp = Input(shape=(max_words,))\\n    emb = Embedding(\\n        vocab_size, 1024, mask_zero=True, weights=[emb_matrix], trainable=True\\n    )(inp)\\n    x = LSTM(units=32)(emb)\\n    x = Dense(1, activation=\\\"sigmoid\\\")(x)\\n    model = Model(inputs=inp, outputs=x)\\n    return model\\n\\n\\nmodel = build_model()\\nmodel.summary(line_length=200)\\nmodel.compile(loss=\\\"binary_crossentropy\\\", optimizer=\\\"adam\\\", metrics=[\\\"accuracy\\\"])\\n\\nmodel.fit(\\n    X_train,\\n    y_train,\\n    validation_data=(X_val, y_val),\\n    batch_size=batch_size,\\n    epochs=epochs,\\n)\\n\\nscores = model.evaluate(X_test, y_test, verbose=0)\\nprint(\\\"Test accuracy:\\\", scores[1])\";\n",
       "                var nbb_cells = Jupyter.notebook.get_cells();\n",
       "                for (var i = 0; i < nbb_cells.length; ++i) {\n",
       "                    if (nbb_cells[i].input_prompt_number == nbb_cell_id) {\n",
       "                        if (nbb_cells[i].get_text() == nbb_unformatted_code) {\n",
       "                             nbb_cells[i].set_text(nbb_formatted_code);\n",
       "                        }\n",
       "                        break;\n",
       "                    }\n",
       "                }\n",
       "            }, 500);\n",
       "            "
      ],
      "text/plain": [
       "<IPython.core.display.Javascript object>"
      ]
     },
     "metadata": {},
     "output_type": "display_data"
    }
   ],
   "source": [
    "from tensorflow.keras.layers import Input, LSTM, Dense, Embedding\n",
    "from tensorflow.keras import Model\n",
    "\n",
    "batch_size = 64\n",
    "epochs = 5\n",
    "\n",
    "\n",
    "def build_model():\n",
    "    inp = Input(shape=(max_words,))\n",
    "    emb = Embedding(\n",
    "        vocab_size, 1024, mask_zero=True, weights=[emb_matrix], trainable=True\n",
    "    )(inp)\n",
    "    x = LSTM(units=32)(emb)\n",
    "    x = Dense(1, activation=\"sigmoid\")(x)\n",
    "    model = Model(inputs=inp, outputs=x)\n",
    "    return model\n",
    "\n",
    "\n",
    "model = build_model()\n",
    "model.summary(line_length=200)\n",
    "model.compile(loss=\"binary_crossentropy\", optimizer=\"adam\", metrics=[\"accuracy\"])\n",
    "\n",
    "model.fit(\n",
    "    X_train,\n",
    "    y_train,\n",
    "    validation_data=(X_val, y_val),\n",
    "    batch_size=batch_size,\n",
    "    epochs=epochs,\n",
    ")\n",
    "\n",
    "scores = model.evaluate(X_test, y_test, verbose=0)\n",
    "print(\"Test accuracy:\", scores[1])"
   ]
  },
  {
   "cell_type": "markdown",
   "metadata": {},
   "source": [
    "Compare to without using pre-trained embeddings at all"
   ]
  },
  {
   "cell_type": "code",
   "execution_count": 10,
   "metadata": {
    "ExecuteTime": {
     "end_time": "2020-02-09T11:26:28.565388Z",
     "start_time": "2020-02-09T10:46:04.178589Z"
    }
   },
   "outputs": [
    {
     "name": "stdout",
     "output_type": "stream",
     "text": [
      "Model: \"model_1\"\n",
      "________________________________________________________________________________________________________________________________________________________________________________________________________\n",
      "Layer (type)                                                                              Output Shape                                                                    Param #                       \n",
      "========================================================================================================================================================================================================\n",
      "input_2 (InputLayer)                                                                      [(None, 500)]                                                                   0                             \n",
      "________________________________________________________________________________________________________________________________________________________________________________________________________\n",
      "embedding_1 (Embedding)                                                                   (None, 500, 1024)                                                               5120000                       \n",
      "________________________________________________________________________________________________________________________________________________________________________________________________________\n",
      "lstm_1 (LSTM)                                                                             (None, 32)                                                                      135296                        \n",
      "________________________________________________________________________________________________________________________________________________________________________________________________________\n",
      "dense_1 (Dense)                                                                           (None, 1)                                                                       33                            \n",
      "========================================================================================================================================================================================================\n",
      "Total params: 5,255,329\n",
      "Trainable params: 5,255,329\n",
      "Non-trainable params: 0\n",
      "________________________________________________________________________________________________________________________________________________________________________________________________________\n",
      "Train on 23750 samples, validate on 1250 samples\n",
      "Epoch 1/5\n",
      "23750/23750 [==============================] - 460s 19ms/sample - loss: 0.4894 - acc: 0.7711 - val_loss: 0.4551 - val_acc: 0.7992\n",
      "Epoch 2/5\n",
      "23750/23750 [==============================] - 459s 19ms/sample - loss: 0.3478 - acc: 0.8587 - val_loss: 0.3412 - val_acc: 0.8504\n",
      "Epoch 3/5\n",
      "23750/23750 [==============================] - 455s 19ms/sample - loss: 0.3506 - acc: 0.8488 - val_loss: 0.4235 - val_acc: 0.8384\n",
      "Epoch 4/5\n",
      "23750/23750 [==============================] - 453s 19ms/sample - loss: 0.3409 - acc: 0.8584 - val_loss: 0.3728 - val_acc: 0.8472\n",
      "Epoch 5/5\n",
      "23750/23750 [==============================] - 459s 19ms/sample - loss: 0.2771 - acc: 0.8871 - val_loss: 0.3824 - val_acc: 0.8360\n",
      "Test accuracy: 0.83568\n"
     ]
    },
    {
     "data": {
      "application/javascript": [
       "\n",
       "            setTimeout(function() {\n",
       "                var nbb_cell_id = 10;\n",
       "                var nbb_unformatted_code = \"from tensorflow.keras.layers import Input, LSTM, Dense, Embedding\\nfrom tensorflow.keras import Model\\n\\nbatch_size = 64\\nepochs = 5\\n\\ndef build_model():\\n    inp = Input(shape=(max_words,))\\n    emb = Embedding(\\n        vocab_size, 1024, mask_zero=True, trainable=True\\n    )(inp)\\n    x = LSTM(units=32)(emb)\\n    x = Dense(1, activation=\\\"sigmoid\\\")(x)\\n    model = Model(inputs=inp, outputs=x)\\n    return model\\n\\nmodel = build_model()\\nmodel.summary(line_length=200)\\nmodel.compile(loss=\\\"binary_crossentropy\\\", optimizer=\\\"adam\\\", metrics=[\\\"accuracy\\\"])\\n\\nmodel.fit(\\n    X_train,\\n    y_train,\\n    validation_data=(X_val, y_val),\\n    batch_size=batch_size,\\n    epochs=epochs,\\n)\\n\\nscores = model.evaluate(X_test, y_test, verbose=0)\\nprint(\\\"Test accuracy:\\\", scores[1])\";\n",
       "                var nbb_formatted_code = \"from tensorflow.keras.layers import Input, LSTM, Dense, Embedding\\nfrom tensorflow.keras import Model\\n\\nbatch_size = 64\\nepochs = 5\\n\\n\\ndef build_model():\\n    inp = Input(shape=(max_words,))\\n    emb = Embedding(vocab_size, 1024, mask_zero=True, trainable=True)(inp)\\n    x = LSTM(units=32)(emb)\\n    x = Dense(1, activation=\\\"sigmoid\\\")(x)\\n    model = Model(inputs=inp, outputs=x)\\n    return model\\n\\n\\nmodel = build_model()\\nmodel.summary(line_length=200)\\nmodel.compile(loss=\\\"binary_crossentropy\\\", optimizer=\\\"adam\\\", metrics=[\\\"accuracy\\\"])\\n\\nmodel.fit(\\n    X_train,\\n    y_train,\\n    validation_data=(X_val, y_val),\\n    batch_size=batch_size,\\n    epochs=epochs,\\n)\\n\\nscores = model.evaluate(X_test, y_test, verbose=0)\\nprint(\\\"Test accuracy:\\\", scores[1])\";\n",
       "                var nbb_cells = Jupyter.notebook.get_cells();\n",
       "                for (var i = 0; i < nbb_cells.length; ++i) {\n",
       "                    if (nbb_cells[i].input_prompt_number == nbb_cell_id) {\n",
       "                        if (nbb_cells[i].get_text() == nbb_unformatted_code) {\n",
       "                             nbb_cells[i].set_text(nbb_formatted_code);\n",
       "                        }\n",
       "                        break;\n",
       "                    }\n",
       "                }\n",
       "            }, 500);\n",
       "            "
      ],
      "text/plain": [
       "<IPython.core.display.Javascript object>"
      ]
     },
     "metadata": {},
     "output_type": "display_data"
    }
   ],
   "source": [
    "from tensorflow.keras.layers import Input, LSTM, Dense, Embedding\n",
    "from tensorflow.keras import Model\n",
    "\n",
    "batch_size = 64\n",
    "epochs = 5\n",
    "\n",
    "\n",
    "def build_model():\n",
    "    inp = Input(shape=(max_words,))\n",
    "    emb = Embedding(vocab_size, 1024, mask_zero=True, trainable=True)(inp)\n",
    "    x = LSTM(units=32)(emb)\n",
    "    x = Dense(1, activation=\"sigmoid\")(x)\n",
    "    model = Model(inputs=inp, outputs=x)\n",
    "    return model\n",
    "\n",
    "\n",
    "model = build_model()\n",
    "model.summary(line_length=200)\n",
    "model.compile(loss=\"binary_crossentropy\", optimizer=\"adam\", metrics=[\"accuracy\"])\n",
    "\n",
    "model.fit(\n",
    "    X_train,\n",
    "    y_train,\n",
    "    validation_data=(X_val, y_val),\n",
    "    batch_size=batch_size,\n",
    "    epochs=epochs,\n",
    ")\n",
    "\n",
    "scores = model.evaluate(X_test, y_test, verbose=0)\n",
    "print(\"Test accuracy:\", scores[1])"
   ]
  }
 ],
 "metadata": {
  "kernelspec": {
   "display_name": "tensorflow_1x",
   "language": "python",
   "name": "tensorflow_1x"
  },
  "language_info": {
   "codemirror_mode": {
    "name": "ipython",
    "version": 3
   },
   "file_extension": ".py",
   "mimetype": "text/x-python",
   "name": "python",
   "nbconvert_exporter": "python",
   "pygments_lexer": "ipython3",
   "version": "3.7.6"
  },
  "toc": {
   "base_numbering": 1,
   "nav_menu": {},
   "number_sections": true,
   "sideBar": true,
   "skip_h1_title": false,
   "title_cell": "Table of Contents",
   "title_sidebar": "Contents",
   "toc_cell": false,
   "toc_position": {},
   "toc_section_display": true,
   "toc_window_display": false
  }
 },
 "nbformat": 4,
 "nbformat_minor": 2
}
