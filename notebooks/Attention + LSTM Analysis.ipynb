{
 "cells": [
  {
   "cell_type": "code",
   "execution_count": 1,
   "metadata": {
    "ExecuteTime": {
     "end_time": "2020-02-09T09:08:09.977245Z",
     "start_time": "2020-02-09T09:08:09.873277Z"
    }
   },
   "outputs": [
    {
     "name": "stdout",
     "output_type": "stream",
     "text": [
      "/home/hardianlawi/attention-lstm-sentiment-analysis\n"
     ]
    },
    {
     "data": {
      "application/javascript": [
       "\n",
       "            setTimeout(function() {\n",
       "                var nbb_cell_id = 1;\n",
       "                var nbb_unformatted_code = \"%cd ..\\n%load_ext nb_black\";\n",
       "                var nbb_formatted_code = \"%cd ..\\n%load_ext nb_black\";\n",
       "                var nbb_cells = Jupyter.notebook.get_cells();\n",
       "                for (var i = 0; i < nbb_cells.length; ++i) {\n",
       "                    if (nbb_cells[i].input_prompt_number == nbb_cell_id) {\n",
       "                        if (nbb_cells[i].get_text() == nbb_unformatted_code) {\n",
       "                             nbb_cells[i].set_text(nbb_formatted_code);\n",
       "                        }\n",
       "                        break;\n",
       "                    }\n",
       "                }\n",
       "            }, 500);\n",
       "            "
      ],
      "text/plain": [
       "<IPython.core.display.Javascript object>"
      ]
     },
     "metadata": {},
     "output_type": "display_data"
    }
   ],
   "source": [
    "%cd ..\n",
    "%load_ext nb_black"
   ]
  },
  {
   "cell_type": "code",
   "execution_count": 2,
   "metadata": {
    "ExecuteTime": {
     "end_time": "2020-02-09T09:08:20.813799Z",
     "start_time": "2020-02-09T09:08:09.979072Z"
    }
   },
   "outputs": [
    {
     "name": "stdout",
     "output_type": "stream",
     "text": [
      "Train size: 23750\n",
      "Val size: 1250\n",
      "Test size: 25000\n"
     ]
    },
    {
     "data": {
      "application/javascript": [
       "\n",
       "            setTimeout(function() {\n",
       "                var nbb_cell_id = 2;\n",
       "                var nbb_unformatted_code = \"import numpy as np\\nimport tensorflow as tf\\nimport tensorflow.keras.backend as K\\nimport tensorflow_datasets as tfds\\nfrom src.preprocess import Preprocessor\\nfrom src.data import get_data\\nfrom src.models import get_model\\n\\nimport matplotlib.pyplot as plt\\nimport seaborn as sns\\n\\ntf.random.set_seed(2020)\\n\\n%matplotlib inline\\n\\nplt.style.use(\\\"seaborn\\\")\\nplt.rcParams[\\\"legend.frameon\\\"] = True\\nsns.set_style(\\\"whitegrid\\\", {\\\"grid.linestyle\\\": \\\"--\\\"})\\n\\n(str_X_train, y_train), (str_X_val, y_val), (str_X_test, y_test) = get_data()\\n\\nprint(\\\"Train size:\\\", len(str_X_train))\\nprint(\\\"Val size:\\\", len(str_X_val))\\nprint(\\\"Test size:\\\", len(str_X_test))\";\n",
       "                var nbb_formatted_code = \"import numpy as np\\nimport tensorflow as tf\\nimport tensorflow.keras.backend as K\\nimport tensorflow_datasets as tfds\\nfrom src.preprocess import Preprocessor\\nfrom src.data import get_data\\nfrom src.models import get_model\\n\\nimport matplotlib.pyplot as plt\\nimport seaborn as sns\\n\\ntf.random.set_seed(2020)\\n\\n%matplotlib inline\\n\\nplt.style.use(\\\"seaborn\\\")\\nplt.rcParams[\\\"legend.frameon\\\"] = True\\nsns.set_style(\\\"whitegrid\\\", {\\\"grid.linestyle\\\": \\\"--\\\"})\\n\\n(str_X_train, y_train), (str_X_val, y_val), (str_X_test, y_test) = get_data()\\n\\nprint(\\\"Train size:\\\", len(str_X_train))\\nprint(\\\"Val size:\\\", len(str_X_val))\\nprint(\\\"Test size:\\\", len(str_X_test))\";\n",
       "                var nbb_cells = Jupyter.notebook.get_cells();\n",
       "                for (var i = 0; i < nbb_cells.length; ++i) {\n",
       "                    if (nbb_cells[i].input_prompt_number == nbb_cell_id) {\n",
       "                        if (nbb_cells[i].get_text() == nbb_unformatted_code) {\n",
       "                             nbb_cells[i].set_text(nbb_formatted_code);\n",
       "                        }\n",
       "                        break;\n",
       "                    }\n",
       "                }\n",
       "            }, 500);\n",
       "            "
      ],
      "text/plain": [
       "<IPython.core.display.Javascript object>"
      ]
     },
     "metadata": {},
     "output_type": "display_data"
    }
   ],
   "source": [
    "import numpy as np\n",
    "import tensorflow as tf\n",
    "import tensorflow.keras.backend as K\n",
    "import tensorflow_datasets as tfds\n",
    "from src.preprocess import Preprocessor\n",
    "from src.data import get_data\n",
    "from src.models import get_model\n",
    "\n",
    "import matplotlib.pyplot as plt\n",
    "import seaborn as sns\n",
    "\n",
    "tf.random.set_seed(2020)\n",
    "\n",
    "%matplotlib inline\n",
    "\n",
    "plt.style.use(\"seaborn\")\n",
    "plt.rcParams[\"legend.frameon\"] = True\n",
    "sns.set_style(\"whitegrid\", {\"grid.linestyle\": \"--\"})\n",
    "\n",
    "(str_X_train, y_train), (str_X_val, y_val), (str_X_test, y_test) = get_data()\n",
    "\n",
    "print(\"Train size:\", len(str_X_train))\n",
    "print(\"Val size:\", len(str_X_val))\n",
    "print(\"Test size:\", len(str_X_test))"
   ]
  },
  {
   "cell_type": "code",
   "execution_count": 3,
   "metadata": {
    "ExecuteTime": {
     "end_time": "2020-02-09T09:08:21.561768Z",
     "start_time": "2020-02-09T09:08:20.815928Z"
    }
   },
   "outputs": [
    {
     "name": "stdout",
     "output_type": "stream",
     "text": [
      "Maximum review length: 2470\n",
      "Minimum review length: 4\n"
     ]
    },
    {
     "data": {
      "application/javascript": [
       "\n",
       "            setTimeout(function() {\n",
       "                var nbb_cell_id = 3;\n",
       "                var nbb_unformatted_code = \"sentence_lens = list(\\n    map(lambda x: len(x.split()), str_X_train + str_X_val + str_X_test)\\n)\\nprint(\\\"Maximum review length: {}\\\".format(max(sentence_lens)))\\nprint(\\\"Minimum review length: {}\\\".format(min(sentence_lens)))\";\n",
       "                var nbb_formatted_code = \"sentence_lens = list(\\n    map(lambda x: len(x.split()), str_X_train + str_X_val + str_X_test)\\n)\\nprint(\\\"Maximum review length: {}\\\".format(max(sentence_lens)))\\nprint(\\\"Minimum review length: {}\\\".format(min(sentence_lens)))\";\n",
       "                var nbb_cells = Jupyter.notebook.get_cells();\n",
       "                for (var i = 0; i < nbb_cells.length; ++i) {\n",
       "                    if (nbb_cells[i].input_prompt_number == nbb_cell_id) {\n",
       "                        if (nbb_cells[i].get_text() == nbb_unformatted_code) {\n",
       "                             nbb_cells[i].set_text(nbb_formatted_code);\n",
       "                        }\n",
       "                        break;\n",
       "                    }\n",
       "                }\n",
       "            }, 500);\n",
       "            "
      ],
      "text/plain": [
       "<IPython.core.display.Javascript object>"
      ]
     },
     "metadata": {},
     "output_type": "display_data"
    }
   ],
   "source": [
    "sentence_lens = list(\n",
    "    map(lambda x: len(x.split()), str_X_train + str_X_val + str_X_test)\n",
    ")\n",
    "print(\"Maximum review length: {}\".format(max(sentence_lens)))\n",
    "print(\"Minimum review length: {}\".format(min(sentence_lens)))"
   ]
  },
  {
   "cell_type": "code",
   "execution_count": 4,
   "metadata": {
    "ExecuteTime": {
     "end_time": "2020-02-09T09:08:38.833314Z",
     "start_time": "2020-02-09T09:08:21.564080Z"
    }
   },
   "outputs": [
    {
     "data": {
      "application/javascript": [
       "\n",
       "            setTimeout(function() {\n",
       "                var nbb_cell_id = 4;\n",
       "                var nbb_unformatted_code = \"max_words = 500\\nvocab_size = 5000\\n\\npreprocessor = Preprocessor(maxlen=max_words, vocab_size=vocab_size, oov_token=\\\"<OOV>\\\")\\npreprocessor.fit_on_texts(str_X_train + str_X_val + str_X_test)\\n\\nX_train = preprocessor.transform(str_X_train)\\nX_val = preprocessor.transform(str_X_val)\\nX_test = preprocessor.transform(str_X_test)\";\n",
       "                var nbb_formatted_code = \"max_words = 500\\nvocab_size = 5000\\n\\npreprocessor = Preprocessor(maxlen=max_words, vocab_size=vocab_size, oov_token=\\\"<OOV>\\\")\\npreprocessor.fit_on_texts(str_X_train + str_X_val + str_X_test)\\n\\nX_train = preprocessor.transform(str_X_train)\\nX_val = preprocessor.transform(str_X_val)\\nX_test = preprocessor.transform(str_X_test)\";\n",
       "                var nbb_cells = Jupyter.notebook.get_cells();\n",
       "                for (var i = 0; i < nbb_cells.length; ++i) {\n",
       "                    if (nbb_cells[i].input_prompt_number == nbb_cell_id) {\n",
       "                        if (nbb_cells[i].get_text() == nbb_unformatted_code) {\n",
       "                             nbb_cells[i].set_text(nbb_formatted_code);\n",
       "                        }\n",
       "                        break;\n",
       "                    }\n",
       "                }\n",
       "            }, 500);\n",
       "            "
      ],
      "text/plain": [
       "<IPython.core.display.Javascript object>"
      ]
     },
     "metadata": {},
     "output_type": "display_data"
    }
   ],
   "source": [
    "max_words = 500\n",
    "vocab_size = 5000\n",
    "\n",
    "preprocessor = Preprocessor(maxlen=max_words, vocab_size=vocab_size, oov_token=\"<OOV>\")\n",
    "preprocessor.fit_on_texts(str_X_train + str_X_val + str_X_test)\n",
    "\n",
    "X_train = preprocessor.transform(str_X_train)\n",
    "X_val = preprocessor.transform(str_X_val)\n",
    "X_test = preprocessor.transform(str_X_test)"
   ]
  },
  {
   "cell_type": "code",
   "execution_count": 5,
   "metadata": {
    "ExecuteTime": {
     "end_time": "2020-02-09T09:14:42.809740Z",
     "start_time": "2020-02-09T09:08:38.835330Z"
    },
    "code_folding": [],
    "scrolled": false
   },
   "outputs": [
    {
     "name": "stdout",
     "output_type": "stream",
     "text": [
      "Model: \"model\"\n",
      "________________________________________________________________________________________________________________________________________________________________________________________________________\n",
      "Layer (type)                                                                              Output Shape                                                                    Param #                       \n",
      "========================================================================================================================================================================================================\n",
      "input_1 (InputLayer)                                                                      [(None, 500)]                                                                   0                             \n",
      "________________________________________________________________________________________________________________________________________________________________________________________________________\n",
      "embedding (Embedding)                                                                     (None, 500, 32)                                                                 160000                        \n",
      "________________________________________________________________________________________________________________________________________________________________________________________________________\n",
      "lstm (LSTM)                                                                               [(None, 500, 32), (None, 32), (None, 32)]                                       8320                          \n",
      "________________________________________________________________________________________________________________________________________________________________________________________________________\n",
      "bahdanau_attention (BahdanauAttention)                                                    ((None, 32), (None, 500, 1))                                                    1073                          \n",
      "________________________________________________________________________________________________________________________________________________________________________________________________________\n",
      "dense_3 (Dense)                                                                           (None, 1)                                                                       33                            \n",
      "========================================================================================================================================================================================================\n",
      "Total params: 169,426\n",
      "Trainable params: 169,426\n",
      "Non-trainable params: 0\n",
      "________________________________________________________________________________________________________________________________________________________________________________________________________\n",
      "Train on 23750 samples, validate on 1250 samples\n",
      "Epoch 1/3\n",
      "23750/23750 [==============================] - 116s 5ms/sample - loss: 0.4620 - accuracy: 0.7880 - val_loss: 0.2923 - val_accuracy: 0.8792\n",
      "Epoch 2/3\n",
      "23750/23750 [==============================] - 101s 4ms/sample - loss: 0.2549 - accuracy: 0.8997 - val_loss: 0.2719 - val_accuracy: 0.8928\n",
      "Epoch 3/3\n",
      "23750/23750 [==============================] - 100s 4ms/sample - loss: 0.2127 - accuracy: 0.9200 - val_loss: 0.2704 - val_accuracy: 0.8920\n",
      "Test accuracy: 0.8806\n"
     ]
    },
    {
     "data": {
      "application/javascript": [
       "\n",
       "            setTimeout(function() {\n",
       "                var nbb_cell_id = 5;\n",
       "                var nbb_unformatted_code = \"emb_size = 32\\nbatch_size = 64\\nepochs = 3\\n\\nmodel, model_attention = get_model(\\n    \\\"attention\\\", max_words, vocab_size, emb_size, attention_hs=16, return_attn_weights=True,\\n)\\nmodel.summary(line_length=200)\\nmodel.compile(loss=\\\"binary_crossentropy\\\", optimizer=\\\"adam\\\", metrics=[\\\"accuracy\\\"])\\n\\nmodel.fit(\\n    X_train,\\n    y_train,\\n    validation_data=(X_val, y_val),\\n    batch_size=batch_size,\\n    epochs=epochs,\\n)\\n\\nscores = model.evaluate(X_test, y_test, verbose=0)\\nprint(\\\"Test accuracy:\\\", scores[1])\";\n",
       "                var nbb_formatted_code = \"emb_size = 32\\nbatch_size = 64\\nepochs = 3\\n\\nmodel, model_attention = get_model(\\n    \\\"attention\\\",\\n    max_words,\\n    vocab_size,\\n    emb_size,\\n    attention_hs=16,\\n    return_attn_weights=True,\\n)\\nmodel.summary(line_length=200)\\nmodel.compile(loss=\\\"binary_crossentropy\\\", optimizer=\\\"adam\\\", metrics=[\\\"accuracy\\\"])\\n\\nmodel.fit(\\n    X_train,\\n    y_train,\\n    validation_data=(X_val, y_val),\\n    batch_size=batch_size,\\n    epochs=epochs,\\n)\\n\\nscores = model.evaluate(X_test, y_test, verbose=0)\\nprint(\\\"Test accuracy:\\\", scores[1])\";\n",
       "                var nbb_cells = Jupyter.notebook.get_cells();\n",
       "                for (var i = 0; i < nbb_cells.length; ++i) {\n",
       "                    if (nbb_cells[i].input_prompt_number == nbb_cell_id) {\n",
       "                        if (nbb_cells[i].get_text() == nbb_unformatted_code) {\n",
       "                             nbb_cells[i].set_text(nbb_formatted_code);\n",
       "                        }\n",
       "                        break;\n",
       "                    }\n",
       "                }\n",
       "            }, 500);\n",
       "            "
      ],
      "text/plain": [
       "<IPython.core.display.Javascript object>"
      ]
     },
     "metadata": {},
     "output_type": "display_data"
    }
   ],
   "source": [
    "emb_size = 32\n",
    "batch_size = 64\n",
    "epochs = 3\n",
    "\n",
    "model, model_attention = get_model(\n",
    "    \"attention\",\n",
    "    max_words,\n",
    "    vocab_size,\n",
    "    emb_size,\n",
    "    attention_hs=16,\n",
    "    return_attn_weights=True,\n",
    ")\n",
    "model.summary(line_length=200)\n",
    "model.compile(loss=\"binary_crossentropy\", optimizer=\"adam\", metrics=[\"accuracy\"])\n",
    "\n",
    "model.fit(\n",
    "    X_train,\n",
    "    y_train,\n",
    "    validation_data=(X_val, y_val),\n",
    "    batch_size=batch_size,\n",
    "    epochs=epochs,\n",
    ")\n",
    "\n",
    "scores = model.evaluate(X_test, y_test, verbose=0)\n",
    "print(\"Test accuracy:\", scores[1])"
   ]
  },
  {
   "cell_type": "code",
   "execution_count": 6,
   "metadata": {
    "ExecuteTime": {
     "end_time": "2020-02-09T09:14:42.819730Z",
     "start_time": "2020-02-09T09:14:42.812150Z"
    }
   },
   "outputs": [
    {
     "data": {
      "application/javascript": [
       "\n",
       "            setTimeout(function() {\n",
       "                var nbb_cell_id = 6;\n",
       "                var nbb_unformatted_code = \"# samples = np.array(str_X_test)[y_test == 1][:3]\\nsamples = [\\n    \\\"The best film of the year to date, ambitious in conception and extraordinary in execution, has arrived.\\\"\\n]\\nsample_seqs = preprocessor.transform(samples)\";\n",
       "                var nbb_formatted_code = \"# samples = np.array(str_X_test)[y_test == 1][:3]\\nsamples = [\\n    \\\"The best film of the year to date, ambitious in conception and extraordinary in execution, has arrived.\\\"\\n]\\nsample_seqs = preprocessor.transform(samples)\";\n",
       "                var nbb_cells = Jupyter.notebook.get_cells();\n",
       "                for (var i = 0; i < nbb_cells.length; ++i) {\n",
       "                    if (nbb_cells[i].input_prompt_number == nbb_cell_id) {\n",
       "                        if (nbb_cells[i].get_text() == nbb_unformatted_code) {\n",
       "                             nbb_cells[i].set_text(nbb_formatted_code);\n",
       "                        }\n",
       "                        break;\n",
       "                    }\n",
       "                }\n",
       "            }, 500);\n",
       "            "
      ],
      "text/plain": [
       "<IPython.core.display.Javascript object>"
      ]
     },
     "metadata": {},
     "output_type": "display_data"
    }
   ],
   "source": [
    "samples = [\n",
    "    \"The best film of the year to date, ambitious in conception and extraordinary in execution, has arrived.\"\n",
    "]\n",
    "sample_seqs = preprocessor.transform(samples)"
   ]
  },
  {
   "cell_type": "code",
   "execution_count": 7,
   "metadata": {
    "ExecuteTime": {
     "end_time": "2020-02-09T09:14:43.455495Z",
     "start_time": "2020-02-09T09:14:42.821580Z"
    }
   },
   "outputs": [
    {
     "data": {
      "text/plain": [
       "(1, 500)"
      ]
     },
     "execution_count": 7,
     "metadata": {},
     "output_type": "execute_result"
    },
    {
     "data": {
      "application/javascript": [
       "\n",
       "            setTimeout(function() {\n",
       "                var nbb_cell_id = 7;\n",
       "                var nbb_unformatted_code = \"attn_weights = model_attention(sample_seqs).numpy().squeeze(axis=-1)\\nattn_weights.shape\";\n",
       "                var nbb_formatted_code = \"attn_weights = model_attention(sample_seqs).numpy().squeeze(axis=-1)\\nattn_weights.shape\";\n",
       "                var nbb_cells = Jupyter.notebook.get_cells();\n",
       "                for (var i = 0; i < nbb_cells.length; ++i) {\n",
       "                    if (nbb_cells[i].input_prompt_number == nbb_cell_id) {\n",
       "                        if (nbb_cells[i].get_text() == nbb_unformatted_code) {\n",
       "                             nbb_cells[i].set_text(nbb_formatted_code);\n",
       "                        }\n",
       "                        break;\n",
       "                    }\n",
       "                }\n",
       "            }, 500);\n",
       "            "
      ],
      "text/plain": [
       "<IPython.core.display.Javascript object>"
      ]
     },
     "metadata": {},
     "output_type": "display_data"
    }
   ],
   "source": [
    "attn_weights = model_attention(sample_seqs).numpy().squeeze(axis=-1)\n",
    "attn_weights.shape"
   ]
  },
  {
   "cell_type": "code",
   "execution_count": 8,
   "metadata": {
    "ExecuteTime": {
     "end_time": "2020-02-09T09:14:44.173707Z",
     "start_time": "2020-02-09T09:14:43.457784Z"
    }
   },
   "outputs": [
    {
     "data": {
      "image/png": "[encoded data removed]",
      "text/plain": [
       "<Figure size 1440x576 with 1 Axes>"
      ]
     },
     "metadata": {},
     "output_type": "display_data"
    },
    {
     "data": {
      "application/javascript": [
       "\n",
       "            setTimeout(function() {\n",
       "                var nbb_cell_id = 8;\n",
       "                var nbb_unformatted_code = \"def plot_attention(attention, tokens):\\n    weights = []\\n    sentence = []\\n    for token, attention in zip(tokens, attention):\\n        if token != 0:\\n            sentence.append(preprocessor._tokenizer.index_word[token])\\n            weights.append(attention)\\n\\n    fig, ax = plt.subplots(figsize=(20, 8))\\n    ax.bar(range(len(sentence)), weights)\\n    ax.set_xticks(range(len(sentence)))\\n    ax.set_xticklabels(sentence, rotation=30)\\n\\n\\nplot_attention(attn_weights[0], sample_seqs[0])\\nplt.show()\";\n",
       "                var nbb_formatted_code = \"def plot_attention(attention, tokens):\\n    weights = []\\n    sentence = []\\n    for token, attention in zip(tokens, attention):\\n        if token != 0:\\n            sentence.append(preprocessor._tokenizer.index_word[token])\\n            weights.append(attention)\\n\\n    fig, ax = plt.subplots(figsize=(20, 8))\\n    ax.bar(range(len(sentence)), weights)\\n    ax.set_xticks(range(len(sentence)))\\n    ax.set_xticklabels(sentence, rotation=30)\\n\\n\\nplot_attention(attn_weights[0], sample_seqs[0])\\nplt.show()\";\n",
       "                var nbb_cells = Jupyter.notebook.get_cells();\n",
       "                for (var i = 0; i < nbb_cells.length; ++i) {\n",
       "                    if (nbb_cells[i].input_prompt_number == nbb_cell_id) {\n",
       "                        if (nbb_cells[i].get_text() == nbb_unformatted_code) {\n",
       "                             nbb_cells[i].set_text(nbb_formatted_code);\n",
       "                        }\n",
       "                        break;\n",
       "                    }\n",
       "                }\n",
       "            }, 500);\n",
       "            "
      ],
      "text/plain": [
       "<IPython.core.display.Javascript object>"
      ]
     },
     "metadata": {},
     "output_type": "display_data"
    }
   ],
   "source": [
    "def plot_attention(attention, tokens):\n",
    "    weights = []\n",
    "    sentence = []\n",
    "    for token, attention in zip(tokens, attention):\n",
    "        if token != 0:\n",
    "            sentence.append(preprocessor._tokenizer.index_word[token])\n",
    "            weights.append(attention)\n",
    "\n",
    "    fig, ax = plt.subplots(figsize=(20, 8))\n",
    "    ax.bar(range(len(sentence)), weights)\n",
    "    ax.set_xticks(range(len(sentence)))\n",
    "    ax.set_xticklabels(sentence, rotation=30)\n",
    "\n",
    "\n",
    "plot_attention(attn_weights[0], sample_seqs[0])\n",
    "plt.show()"
   ]
  },
  {
   "cell_type": "markdown",
   "metadata": {},
   "source": [
    "We can see that the learned attention weights are putting a lot of weights on the words like *best* or *extraordinary in execution, has arrived* which shows how it is focusing on the words that generate the positive sentiment."
   ]
  }
 ],
 "metadata": {
  "kernelspec": {
   "display_name": "attention-lstm-sentiment-analysis",
   "language": "python",
   "name": "attention-lstm-sentiment-analysis"
  },
  "language_info": {
   "codemirror_mode": {
    "name": "ipython",
    "version": 3
   },
   "file_extension": ".py",
   "mimetype": "text/x-python",
   "name": "python",
   "nbconvert_exporter": "python",
   "pygments_lexer": "ipython3",
   "version": "3.7.5"
  },
  "toc": {
   "base_numbering": 1,
   "nav_menu": {},
   "number_sections": true,
   "sideBar": true,
   "skip_h1_title": false,
   "title_cell": "Table of Contents",
   "title_sidebar": "Contents",
   "toc_cell": false,
   "toc_position": {},
   "toc_section_display": true,
   "toc_window_display": false
  }
 },
 "nbformat": 4,
 "nbformat_minor": 2
}
