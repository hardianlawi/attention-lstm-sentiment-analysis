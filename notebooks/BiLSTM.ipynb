{
 "cells": [
  {
   "cell_type": "code",
   "execution_count": 1,
   "metadata": {
    "ExecuteTime": {
     "end_time": "2020-02-07T03:24:05.269843Z",
     "start_time": "2020-02-07T03:24:05.143232Z"
    }
   },
   "outputs": [
    {
     "name": "stdout",
     "output_type": "stream",
     "text": [
      "/home/hardianlawi/attention-lstm-sentiment-analysis\n"
     ]
    },
    {
     "data": {
      "application/javascript": [
       "\n",
       "            setTimeout(function() {\n",
       "                var nbb_cell_id = 1;\n",
       "                var nbb_unformatted_code = \"%cd ..\\n%load_ext nb_black\";\n",
       "                var nbb_formatted_code = \"%cd ..\\n%load_ext nb_black\";\n",
       "                var nbb_cells = Jupyter.notebook.get_cells();\n",
       "                for (var i = 0; i < nbb_cells.length; ++i) {\n",
       "                    if (nbb_cells[i].input_prompt_number == nbb_cell_id) {\n",
       "                        if (nbb_cells[i].get_text() == nbb_unformatted_code) {\n",
       "                             nbb_cells[i].set_text(nbb_formatted_code);\n",
       "                        }\n",
       "                        break;\n",
       "                    }\n",
       "                }\n",
       "            }, 500);\n",
       "            "
      ],
      "text/plain": [
       "<IPython.core.display.Javascript object>"
      ]
     },
     "metadata": {},
     "output_type": "display_data"
    }
   ],
   "source": [
    "%cd ..\n",
    "%load_ext nb_black"
   ]
  },
  {
   "cell_type": "code",
   "execution_count": 2,
   "metadata": {
    "ExecuteTime": {
     "end_time": "2020-02-07T03:24:30.382073Z",
     "start_time": "2020-02-07T03:24:05.271554Z"
    }
   },
   "outputs": [
    {
     "name": "stdout",
     "output_type": "stream",
     "text": [
      "Maximum review length: 2494\n",
      "Minimum review length: 7\n"
     ]
    },
    {
     "data": {
      "application/javascript": [
       "\n",
       "            setTimeout(function() {\n",
       "                var nbb_cell_id = 2;\n",
       "                var nbb_unformatted_code = \"import numpy as np\\nimport tensorflow as tf\\nfrom src.preprocess import Preprocessor\\nfrom src.data import get_data, ID2WORD, OOV_ID\\nfrom src.models import get_model\\n\\n\\nvocabulary_size = 5000\\nembedding_size = 32\\nmax_words = 500\\n\\n(X_train, y_train), (X_test, y_test) = get_data(vocabulary_size)\\n\\nprint(\\\"Maximum review length: {}\\\".format(len(max((X_train + X_test), key=len))))\\nprint(\\\"Minimum review length: {}\\\".format(len(min((X_train + X_test), key=len))))\\n\\n\\npreprocessor = Preprocessor(maxlen=max_words, oov_token=ID2WORD[OOV_ID])\\npreprocessor.fit_on_texts(X_train + X_test)\\n\\nX_train = preprocessor.transform(X_train)\\nX_test = preprocessor.transform(X_test)\";\n",
       "                var nbb_formatted_code = \"import numpy as np\\nimport tensorflow as tf\\nfrom src.preprocess import Preprocessor\\nfrom src.data import get_data, ID2WORD, OOV_ID\\nfrom src.models import get_model\\n\\n\\nvocabulary_size = 5000\\nembedding_size = 32\\nmax_words = 500\\n\\n(X_train, y_train), (X_test, y_test) = get_data(vocabulary_size)\\n\\nprint(\\\"Maximum review length: {}\\\".format(len(max((X_train + X_test), key=len))))\\nprint(\\\"Minimum review length: {}\\\".format(len(min((X_train + X_test), key=len))))\\n\\n\\npreprocessor = Preprocessor(maxlen=max_words, oov_token=ID2WORD[OOV_ID])\\npreprocessor.fit_on_texts(X_train + X_test)\\n\\nX_train = preprocessor.transform(X_train)\\nX_test = preprocessor.transform(X_test)\";\n",
       "                var nbb_cells = Jupyter.notebook.get_cells();\n",
       "                for (var i = 0; i < nbb_cells.length; ++i) {\n",
       "                    if (nbb_cells[i].input_prompt_number == nbb_cell_id) {\n",
       "                        if (nbb_cells[i].get_text() == nbb_unformatted_code) {\n",
       "                             nbb_cells[i].set_text(nbb_formatted_code);\n",
       "                        }\n",
       "                        break;\n",
       "                    }\n",
       "                }\n",
       "            }, 500);\n",
       "            "
      ],
      "text/plain": [
       "<IPython.core.display.Javascript object>"
      ]
     },
     "metadata": {},
     "output_type": "display_data"
    }
   ],
   "source": [
    "import numpy as np\n",
    "import tensorflow as tf\n",
    "from src.preprocess import Preprocessor\n",
    "from src.data import get_data, ID2WORD, OOV_ID\n",
    "from src.models import get_model\n",
    "\n",
    "\n",
    "vocabulary_size = 5000\n",
    "embedding_size = 32\n",
    "max_words = 500\n",
    "\n",
    "(X_train, y_train), (X_test, y_test) = get_data(vocabulary_size)\n",
    "\n",
    "print(\"Maximum review length: {}\".format(len(max((X_train + X_test), key=len))))\n",
    "print(\"Minimum review length: {}\".format(len(min((X_train + X_test), key=len))))\n",
    "\n",
    "\n",
    "preprocessor = Preprocessor(maxlen=max_words, oov_token=ID2WORD[OOV_ID])\n",
    "preprocessor.fit_on_texts(X_train + X_test)\n",
    "\n",
    "X_train = preprocessor.transform(X_train)\n",
    "X_test = preprocessor.transform(X_test)\n"
   ]
  },
  {
   "cell_type": "code",
   "execution_count": 3,
   "metadata": {
    "ExecuteTime": {
     "end_time": "2020-02-07T03:24:32.242946Z",
     "start_time": "2020-02-07T03:24:30.384091Z"
    }
   },
   "outputs": [
    {
     "name": "stdout",
     "output_type": "stream",
     "text": [
      "Model: \"model\"\n",
      "________________________________________________________________________________________________________________________________________________________________________________________________________\n",
      "Layer (type)                                                                              Output Shape                                                                    Param #                       \n",
      "========================================================================================================================================================================================================\n",
      "input_1 (InputLayer)                                                                      [(None, 500)]                                                                   0                             \n",
      "________________________________________________________________________________________________________________________________________________________________________________________________________\n",
      "embedding (Embedding)                                                                     (None, 500, 32)                                                                 160000                        \n",
      "________________________________________________________________________________________________________________________________________________________________________________________________________\n",
      "bidirectional (Bidirectional)                                                             (None, 200)                                                                     106400                        \n",
      "________________________________________________________________________________________________________________________________________________________________________________________________________\n",
      "dense (Dense)                                                                             (None, 1)                                                                       201                           \n",
      "========================================================================================================================================================================================================\n",
      "Total params: 266,601\n",
      "Trainable params: 266,601\n",
      "Non-trainable params: 0\n",
      "________________________________________________________________________________________________________________________________________________________________________________________________________\n"
     ]
    },
    {
     "data": {
      "application/javascript": [
       "\n",
       "            setTimeout(function() {\n",
       "                var nbb_cell_id = 3;\n",
       "                var nbb_unformatted_code = \"from tensorflow.keras.layers import Bidirectional, Input, LSTM, Embedding, Dense\\nfrom tensorflow.keras import Model\\n\\n\\ndef _lstm_based_model(maxlen, vocab_size, emb_size, hidden_size=100, mask_zero=True):\\n    inp = Input(shape=[maxlen])\\n    emb = Embedding(vocab_size, emb_size, mask_zero=mask_zero)\\n    x = emb(inp)\\n    x = Bidirectional(LSTM(hidden_size))(x)\\n    out = Dense(1, activation=\\\"sigmoid\\\")(x)\\n    model = Model(inputs=inp, outputs=out)\\n    return model\\n\\n\\nmodel = _lstm_based_model(max_words, vocabulary_size, embedding_size)\\nmodel.summary(line_length=200)\\nmodel.compile(loss=\\\"binary_crossentropy\\\", optimizer=\\\"adam\\\", metrics=[\\\"accuracy\\\"])\";\n",
       "                var nbb_formatted_code = \"from tensorflow.keras.layers import Bidirectional, Input, LSTM, Embedding, Dense\\nfrom tensorflow.keras import Model\\n\\n\\ndef _lstm_based_model(maxlen, vocab_size, emb_size, hidden_size=100, mask_zero=True):\\n    inp = Input(shape=[maxlen])\\n    emb = Embedding(vocab_size, emb_size, mask_zero=mask_zero)\\n    x = emb(inp)\\n    x = Bidirectional(LSTM(hidden_size))(x)\\n    out = Dense(1, activation=\\\"sigmoid\\\")(x)\\n    model = Model(inputs=inp, outputs=out)\\n    return model\\n\\n\\nmodel = _lstm_based_model(max_words, vocabulary_size, embedding_size)\\nmodel.summary(line_length=200)\\nmodel.compile(loss=\\\"binary_crossentropy\\\", optimizer=\\\"adam\\\", metrics=[\\\"accuracy\\\"])\";\n",
       "                var nbb_cells = Jupyter.notebook.get_cells();\n",
       "                for (var i = 0; i < nbb_cells.length; ++i) {\n",
       "                    if (nbb_cells[i].input_prompt_number == nbb_cell_id) {\n",
       "                        if (nbb_cells[i].get_text() == nbb_unformatted_code) {\n",
       "                             nbb_cells[i].set_text(nbb_formatted_code);\n",
       "                        }\n",
       "                        break;\n",
       "                    }\n",
       "                }\n",
       "            }, 500);\n",
       "            "
      ],
      "text/plain": [
       "<IPython.core.display.Javascript object>"
      ]
     },
     "metadata": {},
     "output_type": "display_data"
    }
   ],
   "source": [
    "from tensorflow.keras.layers import Bidirectional, Input, LSTM, Embedding, Dense\n",
    "from tensorflow.keras import Model\n",
    "\n",
    "\n",
    "def _lstm_based_model(maxlen, vocab_size, emb_size, hidden_size=100, mask_zero=True):\n",
    "    inp = Input(shape=[maxlen])\n",
    "    emb = Embedding(vocab_size, emb_size, mask_zero=mask_zero)\n",
    "    x = emb(inp)\n",
    "    x = Bidirectional(LSTM(hidden_size))(x)\n",
    "    out = Dense(1, activation=\"sigmoid\")(x)\n",
    "    model = Model(inputs=inp, outputs=out)\n",
    "    return model\n",
    "\n",
    "\n",
    "model = _lstm_based_model(max_words, vocabulary_size, embedding_size)\n",
    "model.summary(line_length=200)\n",
    "model.compile(loss=\"binary_crossentropy\", optimizer=\"adam\", metrics=[\"accuracy\"])"
   ]
  },
  {
   "cell_type": "code",
   "execution_count": 4,
   "metadata": {
    "ExecuteTime": {
     "end_time": "2020-02-07T03:35:24.934875Z",
     "start_time": "2020-02-07T03:24:32.244776Z"
    }
   },
   "outputs": [
    {
     "name": "stdout",
     "output_type": "stream",
     "text": [
      "Train on 24936 samples, validate on 64 samples\n",
      "Epoch 1/3\n",
      "24936/24936 [==============================] - 223s 9ms/sample - loss: 0.4824 - accuracy: 0.7780 - val_loss: 0.1973 - val_accuracy: 0.9688\n",
      "Epoch 2/3\n",
      "24936/24936 [==============================] - 215s 9ms/sample - loss: 0.3102 - accuracy: 0.8750 - val_loss: 0.3483 - val_accuracy: 0.8750\n",
      "Epoch 3/3\n",
      "24936/24936 [==============================] - 215s 9ms/sample - loss: 0.2809 - accuracy: 0.8893 - val_loss: 0.2600 - val_accuracy: 0.9375\n"
     ]
    },
    {
     "data": {
      "text/plain": [
       "<tensorflow.python.keras.callbacks.History at 0x7f9310037f50>"
      ]
     },
     "execution_count": 4,
     "metadata": {},
     "output_type": "execute_result"
    },
    {
     "data": {
      "application/javascript": [
       "\n",
       "            setTimeout(function() {\n",
       "                var nbb_cell_id = 4;\n",
       "                var nbb_unformatted_code = \"batch_size = 64\\nnum_epochs = 3\\nX_valid, y_valid = X_train[:batch_size], y_train[:batch_size]\\nX_train2, y_train2 = X_train[batch_size:], y_train[batch_size:]\\n\\nmodel.fit(\\n    X_train2,\\n    y_train2,\\n    validation_data=(X_valid, y_valid),\\n    batch_size=batch_size,\\n    epochs=num_epochs,\\n)\";\n",
       "                var nbb_formatted_code = \"batch_size = 64\\nnum_epochs = 3\\nX_valid, y_valid = X_train[:batch_size], y_train[:batch_size]\\nX_train2, y_train2 = X_train[batch_size:], y_train[batch_size:]\\n\\nmodel.fit(\\n    X_train2,\\n    y_train2,\\n    validation_data=(X_valid, y_valid),\\n    batch_size=batch_size,\\n    epochs=num_epochs,\\n)\";\n",
       "                var nbb_cells = Jupyter.notebook.get_cells();\n",
       "                for (var i = 0; i < nbb_cells.length; ++i) {\n",
       "                    if (nbb_cells[i].input_prompt_number == nbb_cell_id) {\n",
       "                        if (nbb_cells[i].get_text() == nbb_unformatted_code) {\n",
       "                             nbb_cells[i].set_text(nbb_formatted_code);\n",
       "                        }\n",
       "                        break;\n",
       "                    }\n",
       "                }\n",
       "            }, 500);\n",
       "            "
      ],
      "text/plain": [
       "<IPython.core.display.Javascript object>"
      ]
     },
     "metadata": {},
     "output_type": "display_data"
    }
   ],
   "source": [
    "batch_size = 64\n",
    "num_epochs = 3\n",
    "X_valid, y_valid = X_train[:batch_size], y_train[:batch_size]\n",
    "X_train2, y_train2 = X_train[batch_size:], y_train[batch_size:]\n",
    "\n",
    "model.fit(\n",
    "    X_train2,\n",
    "    y_train2,\n",
    "    validation_data=(X_valid, y_valid),\n",
    "    batch_size=batch_size,\n",
    "    epochs=num_epochs,\n",
    ")"
   ]
  },
  {
   "cell_type": "code",
   "execution_count": 5,
   "metadata": {
    "ExecuteTime": {
     "end_time": "2020-02-07T03:36:55.003715Z",
     "start_time": "2020-02-07T03:35:24.937155Z"
    }
   },
   "outputs": [
    {
     "name": "stdout",
     "output_type": "stream",
     "text": [
      "Test accuracy: 0.84864\n"
     ]
    },
    {
     "data": {
      "application/javascript": [
       "\n",
       "            setTimeout(function() {\n",
       "                var nbb_cell_id = 5;\n",
       "                var nbb_unformatted_code = \"scores = model.evaluate(X_test, y_test, verbose=0)\\nprint(\\\"Test accuracy:\\\", scores[1])\";\n",
       "                var nbb_formatted_code = \"scores = model.evaluate(X_test, y_test, verbose=0)\\nprint(\\\"Test accuracy:\\\", scores[1])\";\n",
       "                var nbb_cells = Jupyter.notebook.get_cells();\n",
       "                for (var i = 0; i < nbb_cells.length; ++i) {\n",
       "                    if (nbb_cells[i].input_prompt_number == nbb_cell_id) {\n",
       "                        if (nbb_cells[i].get_text() == nbb_unformatted_code) {\n",
       "                             nbb_cells[i].set_text(nbb_formatted_code);\n",
       "                        }\n",
       "                        break;\n",
       "                    }\n",
       "                }\n",
       "            }, 500);\n",
       "            "
      ],
      "text/plain": [
       "<IPython.core.display.Javascript object>"
      ]
     },
     "metadata": {},
     "output_type": "display_data"
    }
   ],
   "source": [
    "scores = model.evaluate(X_test, y_test, verbose=0)\n",
    "print(\"Test accuracy:\", scores[1])"
   ]
  }
 ],
 "metadata": {
  "kernelspec": {
   "display_name": "conda_tensorflow",
   "language": "python",
   "name": "conda_tensorflow"
  },
  "language_info": {
   "codemirror_mode": {
    "name": "ipython",
    "version": 3
   },
   "file_extension": ".py",
   "mimetype": "text/x-python",
   "name": "python",
   "nbconvert_exporter": "python",
   "pygments_lexer": "ipython3",
   "version": "3.7.5"
  },
  "toc": {
   "base_numbering": 1,
   "nav_menu": {},
   "number_sections": true,
   "sideBar": true,
   "skip_h1_title": false,
   "title_cell": "Table of Contents",
   "title_sidebar": "Contents",
   "toc_cell": false,
   "toc_position": {},
   "toc_section_display": true,
   "toc_window_display": false
  }
 },
 "nbformat": 4,
 "nbformat_minor": 2
}
